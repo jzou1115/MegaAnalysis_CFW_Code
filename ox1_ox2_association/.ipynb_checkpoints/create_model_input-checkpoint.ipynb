{
 "cells": [
  {
   "cell_type": "code",
   "execution_count": 8,
   "metadata": {},
   "outputs": [
    {
     "ename": "ImportError",
     "evalue": "cannot import name '_np_version_under1p18' from 'pandas.compat.numpy' (/u/home/j/jzou1115/project-ernst/software/anaconda3/lib/python3.7/site-packages/pandas/compat/numpy/__init__.py)",
     "output_type": "error",
     "traceback": [
      "\u001b[0;31m---------------------------------------------------------------------------\u001b[0m",
      "\u001b[0;31mImportError\u001b[0m                               Traceback (most recent call last)",
      "\u001b[0;32m<ipython-input-8-a7088d339ed0>\u001b[0m in \u001b[0;36m<module>\u001b[0;34m\u001b[0m\n\u001b[0;32m----> 1\u001b[0;31m \u001b[0;32mimport\u001b[0m \u001b[0mpandas\u001b[0m \u001b[0;32mas\u001b[0m \u001b[0mpd\u001b[0m\u001b[0;34m\u001b[0m\u001b[0;34m\u001b[0m\u001b[0m\n\u001b[0m\u001b[1;32m      2\u001b[0m \u001b[0;32mimport\u001b[0m \u001b[0mglob\u001b[0m\u001b[0;34m\u001b[0m\u001b[0;34m\u001b[0m\u001b[0m\n",
      "\u001b[0;32m~/project-ernst/software/anaconda3/lib/python3.7/site-packages/pandas/__init__.py\u001b[0m in \u001b[0;36m<module>\u001b[0;34m\u001b[0m\n\u001b[1;32m     20\u001b[0m \u001b[0;34m\u001b[0m\u001b[0m\n\u001b[1;32m     21\u001b[0m \u001b[0;31m# numpy compat\u001b[0m\u001b[0;34m\u001b[0m\u001b[0;34m\u001b[0m\u001b[0;34m\u001b[0m\u001b[0m\n\u001b[0;32m---> 22\u001b[0;31m from pandas.compat.numpy import (\n\u001b[0m\u001b[1;32m     23\u001b[0m     \u001b[0m_np_version_under1p14\u001b[0m\u001b[0;34m,\u001b[0m\u001b[0;34m\u001b[0m\u001b[0;34m\u001b[0m\u001b[0m\n\u001b[1;32m     24\u001b[0m     \u001b[0m_np_version_under1p15\u001b[0m\u001b[0;34m,\u001b[0m\u001b[0;34m\u001b[0m\u001b[0;34m\u001b[0m\u001b[0m\n",
      "\u001b[0;31mImportError\u001b[0m: cannot import name '_np_version_under1p18' from 'pandas.compat.numpy' (/u/home/j/jzou1115/project-ernst/software/anaconda3/lib/python3.7/site-packages/pandas/compat/numpy/__init__.py)"
     ]
    }
   ],
   "source": [
    "import pandas as pd\n",
    "import glob"
   ]
  },
  {
   "cell_type": "code",
   "execution_count": null,
   "metadata": {},
   "outputs": [],
   "source": [
    "n1=1037\n",
    "n2=1036"
   ]
  },
  {
   "cell_type": "code",
   "execution_count": null,
   "metadata": {},
   "outputs": [],
   "source": [
    "pheno=4\n",
    "datadir=\"/u/home/j/jzou1115/project-zarlab/CFW/MegaAnalysis_CFW_Code/ox1_ox2_association/output\"\n",
    "ox1_files=glob.glob(datadir+\"/ox1_pheno_\"+str(pheno)+\"_chr*.assoc.txt\")\n",
    "ox2_files=glob.glob(datadir+\"/ox2_pheno_\"+str(pheno)+\"_chr*.assoc.txt\")"
   ]
  },
  {
   "cell_type": "code",
   "execution_count": null,
   "metadata": {},
   "outputs": [],
   "source": [
    "#load data\n",
    "ox1_data = []\n",
    "for f in ox1_files:\n",
    "    d = pd.read_table(f)\n",
    "    ox1_data.append(d)\n",
    "ox1_data = pd.concat(ox1_data, ignore_index=True)\n",
    "\n",
    "ox2_data = []\n",
    "for f in ox2_files:\n",
    "    d = pd.read_table(f)\n",
    "    ox2_data.append(d)\n",
    "ox2_data = pd.concat(ox2_data, ignore_index=True)\n",
    "\n"
   ]
  },
  {
   "cell_type": "code",
   "execution_count": null,
   "metadata": {},
   "outputs": [],
   "source": [
    "#subset to common snps\n",
    "ox1_data.index = ox1_data[\"rs\"]\n",
    "ox2_data.index = ox2_data[\"rs\"]\n",
    "snps = set(ox1_data.index).intersection(set(ox2_data.index))\n",
    "ox1_data = ox1_data.loc[snps,:]\n",
    "ox2_data = ox2_data.loc[snps,:]\n"
   ]
  },
  {
   "cell_type": "code",
   "execution_count": null,
   "metadata": {},
   "outputs": [],
   "source": [
    "#make output file\n",
    "outfile = \"/u/home/j/jzou1115/project-zarlab/CFW/ox1_ox2_association/model_in/pheno_\"+str(pheno)+\"_z.txt\"\n",
    "out = pd.DataFrame({})\n",
    "out[\"s1\"] =  ox1_data[\"beta\"] / ox1_data[\"se\"]\n",
    "out[\"s2\"] =  ox2_data[\"beta\"] / ox2_data[\"se\"]\n",
    "out[\"n1\"] = n1\n",
    "out[\"n2\"] = n2\n",
    "out.index = ox1_data.index\n",
    "out.to_csv(outfile, sep=\"\\t\", index_label=False)"
   ]
  }
 ],
 "metadata": {
  "kernelspec": {
   "display_name": "Python 3",
   "language": "python",
   "name": "python3"
  },
  "language_info": {
   "codemirror_mode": {
    "name": "ipython",
    "version": 3
   },
   "file_extension": ".py",
   "mimetype": "text/x-python",
   "name": "python",
   "nbconvert_exporter": "python",
   "pygments_lexer": "ipython3",
   "version": "3.7.4"
  }
 },
 "nbformat": 4,
 "nbformat_minor": 2
}
