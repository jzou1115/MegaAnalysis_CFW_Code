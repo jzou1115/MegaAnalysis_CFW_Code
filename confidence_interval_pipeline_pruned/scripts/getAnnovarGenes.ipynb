{
 "cells": [
  {
   "cell_type": "code",
   "execution_count": 105,
   "metadata": {},
   "outputs": [],
   "source": [
    "import pandas as pd\n",
    "import seaborn as sns\n",
    "import matplotlib.pyplot as plt\n",
    "import glob\n",
    "import os"
   ]
  },
  {
   "cell_type": "markdown",
   "metadata": {},
   "source": [
    "# Format annovar output"
   ]
  },
  {
   "cell_type": "code",
   "execution_count": 293,
   "metadata": {},
   "outputs": [
    {
     "name": "stdout",
     "output_type": "stream",
     "text": [
      "133\n"
     ]
    }
   ],
   "source": [
    "snp_files = glob.glob(\"/u/home/j/jzou1115/project-zarlab/CFW/confidence_interval_pipeline_out_pruned/finemapping/output/*annovar_input.txt\")\n",
    "print(len(snp_files))"
   ]
  },
  {
   "cell_type": "code",
   "execution_count": 294,
   "metadata": {},
   "outputs": [
    {
     "data": {
      "text/plain": [
       "133"
      ]
     },
     "execution_count": 294,
     "metadata": {},
     "output_type": "execute_result"
    }
   ],
   "source": [
    "qtls = set(pd.read_table(\"/u/home/j/jzou1115/project-zarlab/CFW/MegaAnalysis_CFW_Code/confidence_interval_pipeline_pruned/data/qtls_decorrelated_info90_all.txt\", header=None)[0])\n",
    "len(qtls)"
   ]
  },
  {
   "cell_type": "code",
   "execution_count": 295,
   "metadata": {},
   "outputs": [],
   "source": [
    "coding = pd.read_table(\"/u/home/j/jzou1115/project-zarlab/CFW/confidence_interval_pipeline_out_pruned/finemapping/output/annovar_input_snps.txt.exonic_variant_function\", header=None, sep=\"\\t\")\n"
   ]
  },
  {
   "cell_type": "code",
   "execution_count": 296,
   "metadata": {},
   "outputs": [],
   "source": [
    "snpids = []\n",
    "for i in coding.index:\n",
    "    snpid = coding.loc[i, 3]+\"_\"+str(coding.loc[i, 4])\n",
    "    snpids.append(snpid)\n",
    "coding[\"snpid\"] = snpids"
   ]
  },
  {
   "cell_type": "code",
   "execution_count": 297,
   "metadata": {},
   "outputs": [],
   "source": [
    "intergenic = pd.read_table(\"/u/home/j/jzou1115/project-zarlab/CFW/confidence_interval_pipeline_out_pruned/finemapping/output/annovar_input_snps.txt.variant_function\",sep=\"\\t\", header=None)\n",
    "snpids = []\n",
    "for i in intergenic.index:\n",
    "    snpid = intergenic.loc[i, 2]+\"_\"+str(intergenic.loc[i, 3])\n",
    "    snpids.append(snpid)\n",
    "intergenic[\"snpid\"] = snpids"
   ]
  },
  {
   "cell_type": "code",
   "execution_count": 298,
   "metadata": {},
   "outputs": [
    {
     "name": "stdout",
     "output_type": "stream",
     "text": [
      "113 20663\n"
     ]
    }
   ],
   "source": [
    "coding_snps = set(coding[\"snpid\"])\n",
    "noncoding_snps = set(intergenic[\"snpid\"])\n",
    "print(len(coding_snps), len(noncoding_snps))"
   ]
  },
  {
   "cell_type": "code",
   "execution_count": 315,
   "metadata": {},
   "outputs": [],
   "source": [
    "output = {}\n",
    "output[\"QTL\"] = []\n",
    "output[\"SNP\"] = []\n",
    "output[\"type\"] = []\n",
    "output[\"annovar\"] = []\n",
    "\n",
    "#check for coding mutations\n",
    "for qtl in qtls:\n",
    "#for qtl in [\"activity.begin.11.93418612\"]:\n",
    "    f = \"/u/home/j/jzou1115/project-zarlab/CFW/confidence_interval_pipeline_out_pruned/finemapping/output/\"+qtl+\"_annovar_input.txt\"\n",
    "    if os.stat(f).st_size == 0:\n",
    "        continue\n",
    "    snps = pd.read_table(f, header=None)\n",
    "    \n",
    "    d = os.path.dirname(f)\n",
    "    \n",
    "    snpids = []\n",
    "    qtl_tokens = qtl.split(\".\")\n",
    "    snpids.append(\"chr\"+str(qtl_tokens[-2])+\"_\"+str(qtl_tokens[-1]))\n",
    "    for i in snps.index:\n",
    "        chrm = str(snps.loc[i, 0])\n",
    "        pos = str(snps.loc[i, 1])\n",
    "        snpids.append(chrm+\"_\"+pos)\n",
    "    \n",
    "    snpids = list(set(snpids))\n",
    "    for snpid in snpids:\n",
    "        \n",
    "        if snpid in coding_snps:\n",
    "            sub = coding[coding[\"snpid\"]==snpid]\n",
    "            for j in sub.index:\n",
    "                output[\"QTL\"].append(qtl)\n",
    "                output[\"SNP\"].append(snpid)\n",
    "                output[\"type\"].append(str(coding.loc[j,1]))\n",
    "                output[\"annovar\"].append(str(coding.loc[j,2]))\n",
    "\n",
    "        elif snpid in noncoding_snps:\n",
    "            #print(snpid)\n",
    "            sub = intergenic[intergenic[\"snpid\"]==snpid]\n",
    "            \n",
    "            for j in sub.index:\n",
    "                output[\"QTL\"].append(qtl)\n",
    "                output[\"SNP\"].append(snpid)\n",
    "                output[\"type\"].append(str(intergenic.loc[j,0]))\n",
    "                output[\"annovar\"].append(str(intergenic.loc[j,1]))\n",
    "        else:\n",
    "            #print(snpid)\n",
    "            output[\"type\"].append(\"NA\")\n",
    "            output[\"annovar\"].append(\"NA\")\n",
    "            output[\"QTL\"].append(qtl)\n",
    "            output[\"SNP\"].append(snpid)             \n",
    "         "
   ]
  },
  {
   "cell_type": "code",
   "execution_count": 316,
   "metadata": {},
   "outputs": [
    {
     "data": {
      "text/html": [
       "<div>\n",
       "<style scoped>\n",
       "    .dataframe tbody tr th:only-of-type {\n",
       "        vertical-align: middle;\n",
       "    }\n",
       "\n",
       "    .dataframe tbody tr th {\n",
       "        vertical-align: top;\n",
       "    }\n",
       "\n",
       "    .dataframe thead th {\n",
       "        text-align: right;\n",
       "    }\n",
       "</style>\n",
       "<table border=\"1\" class=\"dataframe\">\n",
       "  <thead>\n",
       "    <tr style=\"text-align: right;\">\n",
       "      <th></th>\n",
       "      <th>QTL</th>\n",
       "      <th>SNP</th>\n",
       "      <th>type</th>\n",
       "      <th>annovar</th>\n",
       "    </tr>\n",
       "  </thead>\n",
       "  <tbody>\n",
       "    <tr>\n",
       "      <th>0</th>\n",
       "      <td>soleus.13.9242435</td>\n",
       "      <td>chr13_9071094</td>\n",
       "      <td>intergenic</td>\n",
       "      <td>Gtpbp4(dist=75082),Larp4b(dist=22787)</td>\n",
       "    </tr>\n",
       "    <tr>\n",
       "      <th>1</th>\n",
       "      <td>soleus.13.9242435</td>\n",
       "      <td>chr13_9062594</td>\n",
       "      <td>intergenic</td>\n",
       "      <td>Gtpbp4(dist=66582),Larp4b(dist=31287)</td>\n",
       "    </tr>\n",
       "    <tr>\n",
       "      <th>2</th>\n",
       "      <td>soleus.13.9242435</td>\n",
       "      <td>chr13_9184117</td>\n",
       "      <td>intergenic</td>\n",
       "      <td>Larp4b(dist=9666),Dip2c(dist=92408)</td>\n",
       "    </tr>\n",
       "    <tr>\n",
       "      <th>3</th>\n",
       "      <td>soleus.13.9242435</td>\n",
       "      <td>chr13_9178542</td>\n",
       "      <td>intergenic</td>\n",
       "      <td>Larp4b(dist=4091),Dip2c(dist=97983)</td>\n",
       "    </tr>\n",
       "    <tr>\n",
       "      <th>4</th>\n",
       "      <td>soleus.13.9242435</td>\n",
       "      <td>chr13_9189522</td>\n",
       "      <td>intergenic</td>\n",
       "      <td>Larp4b(dist=15071),Dip2c(dist=87003)</td>\n",
       "    </tr>\n",
       "  </tbody>\n",
       "</table>\n",
       "</div>"
      ],
      "text/plain": [
       "                 QTL            SNP        type  \\\n",
       "0  soleus.13.9242435  chr13_9071094  intergenic   \n",
       "1  soleus.13.9242435  chr13_9062594  intergenic   \n",
       "2  soleus.13.9242435  chr13_9184117  intergenic   \n",
       "3  soleus.13.9242435  chr13_9178542  intergenic   \n",
       "4  soleus.13.9242435  chr13_9189522  intergenic   \n",
       "\n",
       "                                 annovar  \n",
       "0  Gtpbp4(dist=75082),Larp4b(dist=22787)  \n",
       "1  Gtpbp4(dist=66582),Larp4b(dist=31287)  \n",
       "2    Larp4b(dist=9666),Dip2c(dist=92408)  \n",
       "3    Larp4b(dist=4091),Dip2c(dist=97983)  \n",
       "4   Larp4b(dist=15071),Dip2c(dist=87003)  "
      ]
     },
     "execution_count": 316,
     "metadata": {},
     "output_type": "execute_result"
    }
   ],
   "source": [
    "output = pd.DataFrame(output)\n",
    "output.head()"
   ]
  },
  {
   "cell_type": "code",
   "execution_count": 317,
   "metadata": {},
   "outputs": [
    {
     "data": {
      "text/plain": [
       "{'NA',\n",
       " 'UTR3',\n",
       " 'UTR5',\n",
       " 'downstream',\n",
       " 'intergenic',\n",
       " 'intronic',\n",
       " 'ncRNA_exonic',\n",
       " 'ncRNA_intronic',\n",
       " 'ncRNA_splicing',\n",
       " 'nonsynonymous SNV',\n",
       " 'stopgain',\n",
       " 'synonymous SNV',\n",
       " 'upstream',\n",
       " 'upstream;downstream'}"
      ]
     },
     "execution_count": 317,
     "metadata": {},
     "output_type": "execute_result"
    }
   ],
   "source": [
    "set(output[\"type\"])"
   ]
  },
  {
   "cell_type": "code",
   "execution_count": 318,
   "metadata": {},
   "outputs": [
    {
     "data": {
      "text/plain": [
       "(133562, 4)"
      ]
     },
     "execution_count": 318,
     "metadata": {},
     "output_type": "execute_result"
    }
   ],
   "source": [
    "output.shape"
   ]
  },
  {
   "cell_type": "code",
   "execution_count": 319,
   "metadata": {},
   "outputs": [],
   "source": [
    "output.to_csv(\"/u/home/j/jzou1115/project-zarlab/CFW/confidence_interval_pipeline_out_pruned/finemapping/output/susier_sets_annovar.txt\", sep=\"\\t\", index=False)"
   ]
  },
  {
   "cell_type": "code",
   "execution_count": 320,
   "metadata": {},
   "outputs": [
    {
     "data": {
      "text/plain": [
       "(165, 4)"
      ]
     },
     "execution_count": 320,
     "metadata": {},
     "output_type": "execute_result"
    }
   ],
   "source": [
    "nonsyn = output[output[\"type\"]==\"nonsynonymous SNV\"]\n",
    "nonsyn.shape"
   ]
  },
  {
   "cell_type": "code",
   "execution_count": 321,
   "metadata": {},
   "outputs": [
    {
     "data": {
      "text/html": [
       "<div>\n",
       "<style scoped>\n",
       "    .dataframe tbody tr th:only-of-type {\n",
       "        vertical-align: middle;\n",
       "    }\n",
       "\n",
       "    .dataframe tbody tr th {\n",
       "        vertical-align: top;\n",
       "    }\n",
       "\n",
       "    .dataframe thead th {\n",
       "        text-align: right;\n",
       "    }\n",
       "</style>\n",
       "<table border=\"1\" class=\"dataframe\">\n",
       "  <thead>\n",
       "    <tr style=\"text-align: right;\">\n",
       "      <th></th>\n",
       "      <th>QTL</th>\n",
       "      <th>SNP</th>\n",
       "      <th>type</th>\n",
       "      <th>annovar</th>\n",
       "    </tr>\n",
       "  </thead>\n",
       "  <tbody>\n",
       "    <tr>\n",
       "      <th>1493</th>\n",
       "      <td>TA.11.88973232</td>\n",
       "      <td>chr11_89055474</td>\n",
       "      <td>nonsynonymous SNV</td>\n",
       "      <td>Dgke:NM_001362845:exon2:c.G499T:p.G167C,Dgke:N...</td>\n",
       "    </tr>\n",
       "    <tr>\n",
       "      <th>1494</th>\n",
       "      <td>TA.11.88973232</td>\n",
       "      <td>chr11_89055474</td>\n",
       "      <td>nonsynonymous SNV</td>\n",
       "      <td>Dgke:NM_001362845:exon2:c.G499A:p.G167S,Dgke:N...</td>\n",
       "    </tr>\n",
       "    <tr>\n",
       "      <th>11029</th>\n",
       "      <td>basal.activity.11.95673447</td>\n",
       "      <td>chr11_96758653</td>\n",
       "      <td>nonsynonymous SNV</td>\n",
       "      <td>Skap1:NM_001177898:exon11:c.G950A:p.R317H,</td>\n",
       "    </tr>\n",
       "    <tr>\n",
       "      <th>11030</th>\n",
       "      <td>basal.activity.11.95673447</td>\n",
       "      <td>chr11_96758653</td>\n",
       "      <td>nonsynonymous SNV</td>\n",
       "      <td>Skap1:NM_001177898:exon11:c.G950A:p.R317H,</td>\n",
       "    </tr>\n",
       "    <tr>\n",
       "      <th>11031</th>\n",
       "      <td>basal.activity.11.95673447</td>\n",
       "      <td>chr11_96758653</td>\n",
       "      <td>nonsynonymous SNV</td>\n",
       "      <td>Skap1:NM_001177898:exon11:c.G950T:p.R317L,</td>\n",
       "    </tr>\n",
       "    <tr>\n",
       "      <th>...</th>\n",
       "      <td>...</td>\n",
       "      <td>...</td>\n",
       "      <td>...</td>\n",
       "      <td>...</td>\n",
       "    </tr>\n",
       "    <tr>\n",
       "      <th>133320</th>\n",
       "      <td>weight.17.37094289</td>\n",
       "      <td>chr17_34183092</td>\n",
       "      <td>nonsynonymous SNV</td>\n",
       "      <td>Psmb9:NM_013585:exon5:c.G529A:p.D177N,</td>\n",
       "    </tr>\n",
       "    <tr>\n",
       "      <th>133321</th>\n",
       "      <td>weight.17.37094289</td>\n",
       "      <td>chr17_34183092</td>\n",
       "      <td>nonsynonymous SNV</td>\n",
       "      <td>Psmb9:NM_013585:exon5:c.G529A:p.D177N,</td>\n",
       "    </tr>\n",
       "    <tr>\n",
       "      <th>133349</th>\n",
       "      <td>weight.17.37094289</td>\n",
       "      <td>chr17_37093791</td>\n",
       "      <td>nonsynonymous SNV</td>\n",
       "      <td>Olfr91:NM_182714:exon1:c.G82T:p.V28F,</td>\n",
       "    </tr>\n",
       "    <tr>\n",
       "      <th>133522</th>\n",
       "      <td>weight.17.37094289</td>\n",
       "      <td>chr17_34137368</td>\n",
       "      <td>nonsynonymous SNV</td>\n",
       "      <td>H2-DMa:NM_001360530:exon3:c.A343C:p.K115Q,H2-D...</td>\n",
       "    </tr>\n",
       "    <tr>\n",
       "      <th>133524</th>\n",
       "      <td>weight.17.37094289</td>\n",
       "      <td>chr17_34137368</td>\n",
       "      <td>nonsynonymous SNV</td>\n",
       "      <td>H2-DMa:NM_001360530:exon3:c.A343C:p.K115Q,H2-D...</td>\n",
       "    </tr>\n",
       "  </tbody>\n",
       "</table>\n",
       "<p>165 rows × 4 columns</p>\n",
       "</div>"
      ],
      "text/plain": [
       "                               QTL             SNP               type  \\\n",
       "1493                TA.11.88973232  chr11_89055474  nonsynonymous SNV   \n",
       "1494                TA.11.88973232  chr11_89055474  nonsynonymous SNV   \n",
       "11029   basal.activity.11.95673447  chr11_96758653  nonsynonymous SNV   \n",
       "11030   basal.activity.11.95673447  chr11_96758653  nonsynonymous SNV   \n",
       "11031   basal.activity.11.95673447  chr11_96758653  nonsynonymous SNV   \n",
       "...                            ...             ...                ...   \n",
       "133320          weight.17.37094289  chr17_34183092  nonsynonymous SNV   \n",
       "133321          weight.17.37094289  chr17_34183092  nonsynonymous SNV   \n",
       "133349          weight.17.37094289  chr17_37093791  nonsynonymous SNV   \n",
       "133522          weight.17.37094289  chr17_34137368  nonsynonymous SNV   \n",
       "133524          weight.17.37094289  chr17_34137368  nonsynonymous SNV   \n",
       "\n",
       "                                                  annovar  \n",
       "1493    Dgke:NM_001362845:exon2:c.G499T:p.G167C,Dgke:N...  \n",
       "1494    Dgke:NM_001362845:exon2:c.G499A:p.G167S,Dgke:N...  \n",
       "11029          Skap1:NM_001177898:exon11:c.G950A:p.R317H,  \n",
       "11030          Skap1:NM_001177898:exon11:c.G950A:p.R317H,  \n",
       "11031          Skap1:NM_001177898:exon11:c.G950T:p.R317L,  \n",
       "...                                                   ...  \n",
       "133320             Psmb9:NM_013585:exon5:c.G529A:p.D177N,  \n",
       "133321             Psmb9:NM_013585:exon5:c.G529A:p.D177N,  \n",
       "133349              Olfr91:NM_182714:exon1:c.G82T:p.V28F,  \n",
       "133522  H2-DMa:NM_001360530:exon3:c.A343C:p.K115Q,H2-D...  \n",
       "133524  H2-DMa:NM_001360530:exon3:c.A343C:p.K115Q,H2-D...  \n",
       "\n",
       "[165 rows x 4 columns]"
      ]
     },
     "execution_count": 321,
     "metadata": {},
     "output_type": "execute_result"
    }
   ],
   "source": [
    "nonsyn"
   ]
  },
  {
   "cell_type": "code",
   "execution_count": 322,
   "metadata": {},
   "outputs": [],
   "source": [
    "nonsyn.to_csv(\"/u/home/j/jzou1115/project-zarlab/CFW/confidence_interval_pipeline_out_pruned/finemapping/output/susier_sets_annovar_nonsyn.txt\", sep=\"\\t\", index=False)"
   ]
  },
  {
   "cell_type": "code",
   "execution_count": 323,
   "metadata": {},
   "outputs": [
    {
     "data": {
      "text/plain": [
       "37"
      ]
     },
     "execution_count": 323,
     "metadata": {},
     "output_type": "execute_result"
    }
   ],
   "source": [
    "len(set([g.split(\":\")[0] for g in nonsyn[\"annovar\"]]))"
   ]
  },
  {
   "cell_type": "code",
   "execution_count": 332,
   "metadata": {},
   "outputs": [
    {
     "data": {
      "text/plain": [
       "14679"
      ]
     },
     "execution_count": 332,
     "metadata": {},
     "output_type": "execute_result"
    }
   ],
   "source": [
    "len(set(output[output[\"type\"]==\"intergenic\"][\"SNP\"]))"
   ]
  },
  {
   "cell_type": "code",
   "execution_count": 333,
   "metadata": {},
   "outputs": [
    {
     "data": {
      "text/plain": [
       "4667"
      ]
     },
     "execution_count": 333,
     "metadata": {},
     "output_type": "execute_result"
    }
   ],
   "source": [
    "len(set(output[output[\"type\"]==\"intronic\"][\"SNP\"]))"
   ]
  },
  {
   "cell_type": "code",
   "execution_count": 334,
   "metadata": {},
   "outputs": [
    {
     "data": {
      "text/plain": [
       "43"
      ]
     },
     "execution_count": 334,
     "metadata": {},
     "output_type": "execute_result"
    }
   ],
   "source": [
    "len(set(output[output[\"type\"]==\"NA\"][\"SNP\"]))"
   ]
  },
  {
   "cell_type": "code",
   "execution_count": 335,
   "metadata": {},
   "outputs": [
    {
     "data": {
      "text/plain": [
       "20706"
      ]
     },
     "execution_count": 335,
     "metadata": {},
     "output_type": "execute_result"
    }
   ],
   "source": [
    "len(set(output[\"SNP\"]))"
   ]
  },
  {
   "cell_type": "code",
   "execution_count": 336,
   "metadata": {},
   "outputs": [
    {
     "data": {
      "text/plain": [
       "0.9363952477542741"
      ]
     },
     "execution_count": 336,
     "metadata": {},
     "output_type": "execute_result"
    }
   ],
   "source": [
    "(14679+4667+43)/20706 # 94% in noncoding regions of the genome"
   ]
  },
  {
   "cell_type": "code",
   "execution_count": 337,
   "metadata": {},
   "outputs": [
    {
     "data": {
      "text/plain": [
       "42"
      ]
     },
     "execution_count": 337,
     "metadata": {},
     "output_type": "execute_result"
    }
   ],
   "source": [
    "len(set(output[output[\"type\"]==\"nonsynonymous SNV\"][\"SNP\"]))"
   ]
  },
  {
   "cell_type": "markdown",
   "metadata": {},
   "source": [
    "# analyze annovar output"
   ]
  },
  {
   "cell_type": "code",
   "execution_count": 338,
   "metadata": {},
   "outputs": [],
   "source": [
    "df = pd.read_table(\"/u/home/j/jzou1115/project-zarlab/CFW/confidence_interval_pipeline_out_pruned/finemapping/output/susier_sets_annovar.txt\")"
   ]
  },
  {
   "cell_type": "code",
   "execution_count": 339,
   "metadata": {},
   "outputs": [],
   "source": [
    "phenotypes = []\n",
    "for i in df.index:\n",
    "    qtl = df.loc[i, \"QTL\"]\n",
    "    tokens = qtl.split(\".\")\n",
    "    pheno = \".\".join(tokens[:-2])\n",
    "    phenotypes.append(pheno)\n",
    "    \n",
    "df[\"phenotype\"] = phenotypes"
   ]
  },
  {
   "cell_type": "code",
   "execution_count": 340,
   "metadata": {},
   "outputs": [
    {
     "data": {
      "text/html": [
       "<div>\n",
       "<style scoped>\n",
       "    .dataframe tbody tr th:only-of-type {\n",
       "        vertical-align: middle;\n",
       "    }\n",
       "\n",
       "    .dataframe tbody tr th {\n",
       "        vertical-align: top;\n",
       "    }\n",
       "\n",
       "    .dataframe thead th {\n",
       "        text-align: right;\n",
       "    }\n",
       "</style>\n",
       "<table border=\"1\" class=\"dataframe\">\n",
       "  <thead>\n",
       "    <tr style=\"text-align: right;\">\n",
       "      <th></th>\n",
       "      <th>QTL</th>\n",
       "      <th>SNP</th>\n",
       "      <th>type</th>\n",
       "      <th>annovar</th>\n",
       "      <th>phenotype</th>\n",
       "    </tr>\n",
       "  </thead>\n",
       "  <tbody>\n",
       "    <tr>\n",
       "      <th>0</th>\n",
       "      <td>soleus.13.9242435</td>\n",
       "      <td>chr13_9071094</td>\n",
       "      <td>intergenic</td>\n",
       "      <td>Gtpbp4(dist=75082),Larp4b(dist=22787)</td>\n",
       "      <td>soleus</td>\n",
       "    </tr>\n",
       "    <tr>\n",
       "      <th>1</th>\n",
       "      <td>soleus.13.9242435</td>\n",
       "      <td>chr13_9062594</td>\n",
       "      <td>intergenic</td>\n",
       "      <td>Gtpbp4(dist=66582),Larp4b(dist=31287)</td>\n",
       "      <td>soleus</td>\n",
       "    </tr>\n",
       "    <tr>\n",
       "      <th>2</th>\n",
       "      <td>soleus.13.9242435</td>\n",
       "      <td>chr13_9184117</td>\n",
       "      <td>intergenic</td>\n",
       "      <td>Larp4b(dist=9666),Dip2c(dist=92408)</td>\n",
       "      <td>soleus</td>\n",
       "    </tr>\n",
       "    <tr>\n",
       "      <th>3</th>\n",
       "      <td>soleus.13.9242435</td>\n",
       "      <td>chr13_9178542</td>\n",
       "      <td>intergenic</td>\n",
       "      <td>Larp4b(dist=4091),Dip2c(dist=97983)</td>\n",
       "      <td>soleus</td>\n",
       "    </tr>\n",
       "    <tr>\n",
       "      <th>4</th>\n",
       "      <td>soleus.13.9242435</td>\n",
       "      <td>chr13_9189522</td>\n",
       "      <td>intergenic</td>\n",
       "      <td>Larp4b(dist=15071),Dip2c(dist=87003)</td>\n",
       "      <td>soleus</td>\n",
       "    </tr>\n",
       "  </tbody>\n",
       "</table>\n",
       "</div>"
      ],
      "text/plain": [
       "                 QTL            SNP        type  \\\n",
       "0  soleus.13.9242435  chr13_9071094  intergenic   \n",
       "1  soleus.13.9242435  chr13_9062594  intergenic   \n",
       "2  soleus.13.9242435  chr13_9184117  intergenic   \n",
       "3  soleus.13.9242435  chr13_9178542  intergenic   \n",
       "4  soleus.13.9242435  chr13_9189522  intergenic   \n",
       "\n",
       "                                 annovar phenotype  \n",
       "0  Gtpbp4(dist=75082),Larp4b(dist=22787)    soleus  \n",
       "1  Gtpbp4(dist=66582),Larp4b(dist=31287)    soleus  \n",
       "2    Larp4b(dist=9666),Dip2c(dist=92408)    soleus  \n",
       "3    Larp4b(dist=4091),Dip2c(dist=97983)    soleus  \n",
       "4   Larp4b(dist=15071),Dip2c(dist=87003)    soleus  "
      ]
     },
     "execution_count": 340,
     "metadata": {},
     "output_type": "execute_result"
    }
   ],
   "source": [
    "df.head()"
   ]
  },
  {
   "cell_type": "code",
   "execution_count": 341,
   "metadata": {},
   "outputs": [
    {
     "data": {
      "image/png": "[encoded data removed]",
      "text/plain": [
       "<Figure size 360x360 with 1 Axes>"
      ]
     },
     "metadata": {
      "needs_background": "light"
     },
     "output_type": "display_data"
    }
   ],
   "source": [
    "ax = sns.catplot(\"type\", data=df, kind=\"count\")\n",
    "ax.set_xticklabels(rotation=90)\n",
    "plt.xlabel(\"Type\")\n",
    "plt.ylabel(\"Number of variants\")\n",
    "plt.tight_layout()\n",
    "plt.savefig(\"/u/home/j/jzou1115/project-zarlab/CFW/confidence_interval_pipeline_out_pruned/finemapping/output/num_variants_by_type.png\")"
   ]
  },
  {
   "cell_type": "code",
   "execution_count": 350,
   "metadata": {},
   "outputs": [
    {
     "name": "stdout",
     "output_type": "stream",
     "text": [
      "{'Zfyve1', 'Cftr', 'Zc3h15', 'Olfr995', 'Nos3', 'Ppfibp1', 'Olfr1087', 'Skap1', 'Pnpo', 'Isl1', 'Slc26a5', 'H2-DMa', 'Itga2', 'Psmb9', 'Dgke', 'Gm11545', 'Mocs2', 'Celsr1', 'Ngfr', 'Irak1bp1', 'Olfr1094', 'Smad1', 'Idi1', 'Copz2', 'Mmp24', 'Olfr1096-ps1', 'Prg3', 'Olfr1089', 'Olfr91', 'Fads2b', 'Dhx29', 'Sp2', 'Ttll6', 'Tmem92', 'Olfr1260', 'Rint1', 'Cdc20b'}\n",
      "37\n"
     ]
    }
   ],
   "source": [
    "nonsyn = df[df[\"type\"]==\"nonsynonymous SNV\"]\n",
    "nonsyn_genes = set([g.split(\":\")[0] for g in nonsyn[\"annovar\"]])\n",
    "print(nonsyn_genes)\n",
    "print(len(nonsyn_genes))"
   ]
  },
  {
   "cell_type": "code",
   "execution_count": 351,
   "metadata": {},
   "outputs": [],
   "source": [
    "def parseGenes(d):\n",
    "    genes = []\n",
    "    for i in d.index:\n",
    "        a = str(d.loc[i, \"annovar\"])\n",
    "        t = str(d.loc[i, \"type\"])\n",
    "\n",
    "        if t==\"upstream\" or t==\"downstream\" or  t==\"UTR3\" or t==\"UTR5\":\n",
    "            tokens = a.split(\"(\")\n",
    "            genes.append(tokens[0])\n",
    "        elif t=='upstream;downstream':\n",
    "            tokens = a.split(\";\")\n",
    "            for g in tokens:\n",
    "                tokens2 = g.split(\"(\")\n",
    "                genes.append(tokens2[0].split(\":\")[0])\n",
    "        if t=='nonsynonymous SNV' or t =='synonymous SNV' or t ==\"stopgain\":\n",
    "            tokens = a.split(\",\")\n",
    "            for g in tokens[:-1]:\n",
    "                genes.append(g.split(\":\")[0])\n",
    "        elif t==\"intronic\":\n",
    "            genes.append(a)\n",
    "        elif pd.isnull(t):\n",
    "            continue\n",
    "        else:\n",
    "            tokens = a.split(\",\")\n",
    "            for g in tokens:\n",
    "                tokens2 = g.split(\"(\")\n",
    "                genes.append(tokens2[0])\n",
    "                \n",
    "    return genes\n",
    "\n",
    "    "
   ]
  },
  {
   "cell_type": "code",
   "execution_count": 352,
   "metadata": {},
   "outputs": [
    {
     "name": "stdout",
     "output_type": "stream",
     "text": [
      "activity.begin\n",
      "activity5\n",
      "glucose\n",
      "basal.activity\n",
      "tail.length\n",
      "weight\n",
      "soleus\n",
      "tibia\n",
      "habit.ratio\n",
      "plantaris\n",
      "activity30\n",
      "activity.total\n",
      "TA\n",
      "activity.end\n",
      "EDL\n",
      "bmd\n",
      "weight.bmi.tibia\n",
      "gastroc\n",
      "bmd.a\n",
      "activity.middle\n",
      "bmd.n\n"
     ]
    }
   ],
   "source": [
    "for pheno in set(phenotypes):\n",
    "    if pd.isnull(pheno):\n",
    "        continue\n",
    "    print(pheno)\n",
    "    d = df[df[\"phenotype\"]==pheno]\n",
    "    genes = parseGenes(d)\n",
    "    outfile = open(\"/u/home/j/jzou1115/project-zarlab/CFW/confidence_interval_pipeline_out_pruned/finemapping/output/GO/\"+pheno+\"_annovar_genes_unique.txt\", \"w\")\n",
    "    genes = set(genes)\n",
    "    for g in genes:\n",
    "        outfile.write(g+\"\\n\")\n",
    "    outfile.close()"
   ]
  },
  {
   "cell_type": "markdown",
   "metadata": {},
   "source": [
    "# compare old and new annovar input"
   ]
  },
  {
   "cell_type": "code",
   "execution_count": 86,
   "metadata": {},
   "outputs": [
    {
     "data": {
      "text/plain": [
       "(3161, 5)"
      ]
     },
     "execution_count": 86,
     "metadata": {},
     "output_type": "execute_result"
    }
   ],
   "source": [
    "old = pd.read_table(\"/u/home/j/jzou1115/project-zarlab/CFW/confidence_interval_pipeline_out_pruned/finemapping/output/annovar_input_snps_old.txt\", header=None)\n",
    "old.shape"
   ]
  },
  {
   "cell_type": "code",
   "execution_count": 87,
   "metadata": {},
   "outputs": [
    {
     "data": {
      "text/plain": [
       "(35126, 5)"
      ]
     },
     "execution_count": 87,
     "metadata": {},
     "output_type": "execute_result"
    }
   ],
   "source": [
    "new = pd.read_table(\"/u/home/j/jzou1115/project-zarlab/CFW/confidence_interval_pipeline_out_pruned/finemapping/output/annovar_input_snps.txt\", header=None)\n",
    "new.shape"
   ]
  },
  {
   "cell_type": "code",
   "execution_count": 88,
   "metadata": {},
   "outputs": [
    {
     "data": {
      "text/html": [
       "<div>\n",
       "<style scoped>\n",
       "    .dataframe tbody tr th:only-of-type {\n",
       "        vertical-align: middle;\n",
       "    }\n",
       "\n",
       "    .dataframe tbody tr th {\n",
       "        vertical-align: top;\n",
       "    }\n",
       "\n",
       "    .dataframe thead th {\n",
       "        text-align: right;\n",
       "    }\n",
       "</style>\n",
       "<table border=\"1\" class=\"dataframe\">\n",
       "  <thead>\n",
       "    <tr style=\"text-align: right;\">\n",
       "      <th></th>\n",
       "      <th>0</th>\n",
       "      <th>1</th>\n",
       "      <th>2</th>\n",
       "      <th>3</th>\n",
       "      <th>4</th>\n",
       "    </tr>\n",
       "  </thead>\n",
       "  <tbody>\n",
       "    <tr>\n",
       "      <th>0</th>\n",
       "      <td>chr17</td>\n",
       "      <td>34005593</td>\n",
       "      <td>34005593</td>\n",
       "      <td>G</td>\n",
       "      <td>A</td>\n",
       "    </tr>\n",
       "    <tr>\n",
       "      <th>1</th>\n",
       "      <td>chr17</td>\n",
       "      <td>34239934</td>\n",
       "      <td>34239934</td>\n",
       "      <td>T</td>\n",
       "      <td>G</td>\n",
       "    </tr>\n",
       "    <tr>\n",
       "      <th>2</th>\n",
       "      <td>chr17</td>\n",
       "      <td>34056484</td>\n",
       "      <td>34056484</td>\n",
       "      <td>G</td>\n",
       "      <td>A</td>\n",
       "    </tr>\n",
       "    <tr>\n",
       "      <th>3</th>\n",
       "      <td>chr17</td>\n",
       "      <td>34101337</td>\n",
       "      <td>34101337</td>\n",
       "      <td>G</td>\n",
       "      <td>C</td>\n",
       "    </tr>\n",
       "    <tr>\n",
       "      <th>4</th>\n",
       "      <td>chr17</td>\n",
       "      <td>34125635</td>\n",
       "      <td>34125635</td>\n",
       "      <td>T</td>\n",
       "      <td>C</td>\n",
       "    </tr>\n",
       "  </tbody>\n",
       "</table>\n",
       "</div>"
      ],
      "text/plain": [
       "       0         1         2  3  4\n",
       "0  chr17  34005593  34005593  G  A\n",
       "1  chr17  34239934  34239934  T  G\n",
       "2  chr17  34056484  34056484  G  A\n",
       "3  chr17  34101337  34101337  G  C\n",
       "4  chr17  34125635  34125635  T  C"
      ]
     },
     "execution_count": 88,
     "metadata": {},
     "output_type": "execute_result"
    }
   ],
   "source": [
    "old.head()"
   ]
  },
  {
   "cell_type": "code",
   "execution_count": 92,
   "metadata": {},
   "outputs": [],
   "source": [
    "snps = []\n",
    "for i in old.index:\n",
    "    chrm = str(old.loc[i, 0])\n",
    "    bp = str(old.loc[i, 1])\n",
    "    snp = chrm+\"_\"+bp\n",
    "    snps.append(snp)\n",
    "old[\"SNP\"] = snps"
   ]
  },
  {
   "cell_type": "code",
   "execution_count": 93,
   "metadata": {},
   "outputs": [],
   "source": [
    "snps = []\n",
    "for i in new.index:\n",
    "    chrm = str(new.loc[i, 0])\n",
    "    bp = str(new.loc[i, 1])\n",
    "    snp = chrm+\"_\"+bp\n",
    "    snps.append(snp)\n",
    "new[\"SNP\"] = snps"
   ]
  },
  {
   "cell_type": "code",
   "execution_count": 94,
   "metadata": {},
   "outputs": [
    {
     "data": {
      "text/plain": [
       "3161"
      ]
     },
     "execution_count": 94,
     "metadata": {},
     "output_type": "execute_result"
    }
   ],
   "source": [
    "len(set(old[\"SNP\"]))"
   ]
  },
  {
   "cell_type": "code",
   "execution_count": 95,
   "metadata": {},
   "outputs": [
    {
     "data": {
      "text/plain": [
       "20663"
      ]
     },
     "execution_count": 95,
     "metadata": {},
     "output_type": "execute_result"
    }
   ],
   "source": [
    "len(set(new[\"SNP\"]))"
   ]
  },
  {
   "cell_type": "code",
   "execution_count": 96,
   "metadata": {},
   "outputs": [
    {
     "data": {
      "text/plain": [
       "3161"
      ]
     },
     "execution_count": 96,
     "metadata": {},
     "output_type": "execute_result"
    }
   ],
   "source": [
    "len(set(old[\"SNP\"]).intersection(set(new[\"SNP\"])))"
   ]
  },
  {
   "cell_type": "code",
   "execution_count": 118,
   "metadata": {},
   "outputs": [],
   "source": [
    "old = open(\"/u/home/j/jzou1115/project-zarlab/CFW/confidence_interval_pipeline_out_pruned/finemapping/output/annovar_input_snps_old.txt\", \"r\")\n",
    "old_lines = old.readlines()\n",
    "old.close()"
   ]
  },
  {
   "cell_type": "code",
   "execution_count": 119,
   "metadata": {},
   "outputs": [],
   "source": [
    "new = open(\"/u/home/j/jzou1115/project-zarlab/CFW/confidence_interval_pipeline_out_pruned/finemapping/output/annovar_input_snps.txt\", \"r\")\n",
    "new_lines = new.readlines()\n",
    "new.close()"
   ]
  },
  {
   "cell_type": "code",
   "execution_count": 120,
   "metadata": {},
   "outputs": [
    {
     "data": {
      "text/plain": [
       "998"
      ]
     },
     "execution_count": 120,
     "metadata": {},
     "output_type": "execute_result"
    }
   ],
   "source": [
    "len(set(old_lines).intersection(set(new_lines)))\n"
   ]
  },
  {
   "cell_type": "code",
   "execution_count": 121,
   "metadata": {},
   "outputs": [
    {
     "data": {
      "text/plain": [
       "3161"
      ]
     },
     "execution_count": 121,
     "metadata": {},
     "output_type": "execute_result"
    }
   ],
   "source": [
    "len(set(old_lines))"
   ]
  },
  {
   "cell_type": "code",
   "execution_count": 122,
   "metadata": {},
   "outputs": [
    {
     "data": {
      "text/plain": [
       "30977"
      ]
     },
     "execution_count": 122,
     "metadata": {},
     "output_type": "execute_result"
    }
   ],
   "source": [
    "len(set(new_lines))"
   ]
  },
  {
   "cell_type": "markdown",
   "metadata": {},
   "source": [
    "# take closer look at nonsynonymous mutations"
   ]
  },
  {
   "cell_type": "code",
   "execution_count": null,
   "metadata": {},
   "outputs": [],
   "source": []
  },
  {
   "cell_type": "raw",
   "metadata": {},
   "source": [
    "nonsyn = pd.read_table(\"/u/home/j/jzou1115/project-zarlab/CFW/confidence_interval_pipeline_out_pruned/finemapping/output/susier_sets_annovar_nonsyn.txt\")\n",
    "nonsyn.head()"
   ]
  },
  {
   "cell_type": "code",
   "execution_count": 98,
   "metadata": {},
   "outputs": [
    {
     "data": {
      "text/plain": [
       "113"
      ]
     },
     "execution_count": 98,
     "metadata": {},
     "output_type": "execute_result"
    }
   ],
   "source": [
    "len(set(nonsyn[\"SNP\"]))"
   ]
  },
  {
   "cell_type": "code",
   "execution_count": 99,
   "metadata": {},
   "outputs": [],
   "source": [
    "genes = [str(g).split(\":\")[0] for g in nonsyn[\"annovar\"]]"
   ]
  },
  {
   "cell_type": "code",
   "execution_count": 101,
   "metadata": {},
   "outputs": [
    {
     "data": {
      "text/plain": [
       "2"
      ]
     },
     "execution_count": 101,
     "metadata": {},
     "output_type": "execute_result"
    }
   ],
   "source": [
    "len(set(genes))"
   ]
  },
  {
   "cell_type": "code",
   "execution_count": 103,
   "metadata": {},
   "outputs": [
    {
     "data": {
      "text/html": [
       "<div>\n",
       "<style scoped>\n",
       "    .dataframe tbody tr th:only-of-type {\n",
       "        vertical-align: middle;\n",
       "    }\n",
       "\n",
       "    .dataframe tbody tr th {\n",
       "        vertical-align: top;\n",
       "    }\n",
       "\n",
       "    .dataframe thead th {\n",
       "        text-align: right;\n",
       "    }\n",
       "</style>\n",
       "<table border=\"1\" class=\"dataframe\">\n",
       "  <thead>\n",
       "    <tr style=\"text-align: right;\">\n",
       "      <th></th>\n",
       "      <th>QTL</th>\n",
       "      <th>SNP</th>\n",
       "      <th>type</th>\n",
       "      <th>annovar</th>\n",
       "    </tr>\n",
       "  </thead>\n",
       "  <tbody>\n",
       "    <tr>\n",
       "      <th>0</th>\n",
       "      <td>soleus.13.9242435</td>\n",
       "      <td>chr13_9151127</td>\n",
       "      <td>nonsynonymous SNV</td>\n",
       "      <td>Olfr1260:NM_146981:exon1:c.C603A:p.S201R,</td>\n",
       "    </tr>\n",
       "    <tr>\n",
       "      <th>1</th>\n",
       "      <td>soleus.13.9242435</td>\n",
       "      <td>chr13_9151127</td>\n",
       "      <td>nonsynonymous SNV</td>\n",
       "      <td>Skap1:NM_001177898:exon11:c.G950A:p.R317H,</td>\n",
       "    </tr>\n",
       "    <tr>\n",
       "      <th>2</th>\n",
       "      <td>TA.11.88973232</td>\n",
       "      <td>chr11_89055474</td>\n",
       "      <td>nonsynonymous SNV</td>\n",
       "      <td>Olfr1260:NM_146981:exon1:c.C603A:p.S201R,</td>\n",
       "    </tr>\n",
       "    <tr>\n",
       "      <th>3</th>\n",
       "      <td>EDL.12.83885241</td>\n",
       "      <td>chr12_83783672</td>\n",
       "      <td>nonsynonymous SNV</td>\n",
       "      <td>Olfr1260:NM_146981:exon1:c.C603A:p.S201R,</td>\n",
       "    </tr>\n",
       "    <tr>\n",
       "      <th>4</th>\n",
       "      <td>bmd.11.100053320</td>\n",
       "      <td>chr11_97022116</td>\n",
       "      <td>nonsynonymous SNV</td>\n",
       "      <td>Olfr1260:NM_146981:exon1:c.C603A:p.S201R,</td>\n",
       "    </tr>\n",
       "    <tr>\n",
       "      <th>...</th>\n",
       "      <td>...</td>\n",
       "      <td>...</td>\n",
       "      <td>...</td>\n",
       "      <td>...</td>\n",
       "    </tr>\n",
       "    <tr>\n",
       "      <th>458</th>\n",
       "      <td>weight.17.37094289</td>\n",
       "      <td>chr17_37086038</td>\n",
       "      <td>nonsynonymous SNV</td>\n",
       "      <td>Olfr1260:NM_146981:exon1:c.C603A:p.S201R,</td>\n",
       "    </tr>\n",
       "    <tr>\n",
       "      <th>459</th>\n",
       "      <td>weight.17.37094289</td>\n",
       "      <td>chr17_37086038</td>\n",
       "      <td>nonsynonymous SNV</td>\n",
       "      <td>Skap1:NM_001177898:exon11:c.G950A:p.R317H,</td>\n",
       "    </tr>\n",
       "    <tr>\n",
       "      <th>460</th>\n",
       "      <td>weight.17.37094289</td>\n",
       "      <td>chr17_34205603</td>\n",
       "      <td>nonsynonymous SNV</td>\n",
       "      <td>Olfr1260:NM_146981:exon1:c.C603A:p.S201R,</td>\n",
       "    </tr>\n",
       "    <tr>\n",
       "      <th>461</th>\n",
       "      <td>weight.17.37094289</td>\n",
       "      <td>chr17_34137368</td>\n",
       "      <td>nonsynonymous SNV</td>\n",
       "      <td>Olfr1260:NM_146981:exon1:c.C603A:p.S201R,</td>\n",
       "    </tr>\n",
       "    <tr>\n",
       "      <th>462</th>\n",
       "      <td>weight.17.37094289</td>\n",
       "      <td>chr17_34058929</td>\n",
       "      <td>nonsynonymous SNV</td>\n",
       "      <td>Olfr1260:NM_146981:exon1:c.C603A:p.S201R,</td>\n",
       "    </tr>\n",
       "  </tbody>\n",
       "</table>\n",
       "<p>463 rows × 4 columns</p>\n",
       "</div>"
      ],
      "text/plain": [
       "                    QTL             SNP               type  \\\n",
       "0     soleus.13.9242435   chr13_9151127  nonsynonymous SNV   \n",
       "1     soleus.13.9242435   chr13_9151127  nonsynonymous SNV   \n",
       "2        TA.11.88973232  chr11_89055474  nonsynonymous SNV   \n",
       "3       EDL.12.83885241  chr12_83783672  nonsynonymous SNV   \n",
       "4      bmd.11.100053320  chr11_97022116  nonsynonymous SNV   \n",
       "..                  ...             ...                ...   \n",
       "458  weight.17.37094289  chr17_37086038  nonsynonymous SNV   \n",
       "459  weight.17.37094289  chr17_37086038  nonsynonymous SNV   \n",
       "460  weight.17.37094289  chr17_34205603  nonsynonymous SNV   \n",
       "461  weight.17.37094289  chr17_34137368  nonsynonymous SNV   \n",
       "462  weight.17.37094289  chr17_34058929  nonsynonymous SNV   \n",
       "\n",
       "                                        annovar  \n",
       "0     Olfr1260:NM_146981:exon1:c.C603A:p.S201R,  \n",
       "1    Skap1:NM_001177898:exon11:c.G950A:p.R317H,  \n",
       "2     Olfr1260:NM_146981:exon1:c.C603A:p.S201R,  \n",
       "3     Olfr1260:NM_146981:exon1:c.C603A:p.S201R,  \n",
       "4     Olfr1260:NM_146981:exon1:c.C603A:p.S201R,  \n",
       "..                                          ...  \n",
       "458   Olfr1260:NM_146981:exon1:c.C603A:p.S201R,  \n",
       "459  Skap1:NM_001177898:exon11:c.G950A:p.R317H,  \n",
       "460   Olfr1260:NM_146981:exon1:c.C603A:p.S201R,  \n",
       "461   Olfr1260:NM_146981:exon1:c.C603A:p.S201R,  \n",
       "462   Olfr1260:NM_146981:exon1:c.C603A:p.S201R,  \n",
       "\n",
       "[463 rows x 4 columns]"
      ]
     },
     "execution_count": 103,
     "metadata": {},
     "output_type": "execute_result"
    }
   ],
   "source": [
    "nonsyn"
   ]
  },
  {
   "cell_type": "code",
   "execution_count": null,
   "metadata": {},
   "outputs": [],
   "source": []
  }
 ],
 "metadata": {
  "kernelspec": {
   "display_name": "Python 3",
   "language": "python",
   "name": "python3"
  },
  "language_info": {
   "codemirror_mode": {
    "name": "ipython",
    "version": 3
   },
   "file_extension": ".py",
   "mimetype": "text/x-python",
   "name": "python",
   "nbconvert_exporter": "python",
   "pygments_lexer": "ipython3",
   "version": "3.7.6"
  }
 },
 "nbformat": 4,
 "nbformat_minor": 4
}
