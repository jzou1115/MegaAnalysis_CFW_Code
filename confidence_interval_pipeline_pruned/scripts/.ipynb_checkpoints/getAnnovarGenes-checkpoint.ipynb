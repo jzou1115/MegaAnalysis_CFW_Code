{
 "cells": [
  {
   "cell_type": "code",
   "execution_count": 11,
   "metadata": {},
   "outputs": [],
   "source": [
    "import pandas as pd\n",
    "import seaborn as sns\n",
    "import matplotlib.pyplot as plt\n",
    "import glob\n",
    "import os"
   ]
  },
  {
   "cell_type": "markdown",
   "metadata": {},
   "source": [
    "# Format annovar output"
   ]
  },
  {
   "cell_type": "code",
   "execution_count": 47,
   "metadata": {},
   "outputs": [
    {
     "name": "stdout",
     "output_type": "stream",
     "text": [
      "133\n"
     ]
    }
   ],
   "source": [
    "snp_files = glob.glob(\"/u/home/j/jzou1115/project-zarlab/CFW/confidence_interval_pipeline_out_pruned/finemapping/output/*annovar_input.txt\")\n",
    "print(len(snp_files))"
   ]
  },
  {
   "cell_type": "code",
   "execution_count": 48,
   "metadata": {},
   "outputs": [
    {
     "data": {
      "text/plain": [
       "133"
      ]
     },
     "execution_count": 48,
     "metadata": {},
     "output_type": "execute_result"
    }
   ],
   "source": [
    "qtls = set(pd.read_table(\"/u/home/j/jzou1115/project-zarlab/CFW/MegaAnalysis_CFW_Code/confidence_interval_pipeline_pruned/data/qtls_decorrelated_info90_all.txt\", header=None)[0])\n",
    "len(qtls)"
   ]
  },
  {
   "cell_type": "code",
   "execution_count": 49,
   "metadata": {},
   "outputs": [],
   "source": [
    "coding = pd.read_table(\"/u/home/j/jzou1115/project-zarlab/CFW/confidence_interval_pipeline_out_pruned/finemapping/output/annovar_input_snps.txt.exonic_variant_function\", header=None, sep=\"\\t\")\n"
   ]
  },
  {
   "cell_type": "code",
   "execution_count": 50,
   "metadata": {},
   "outputs": [],
   "source": [
    "snpids = []\n",
    "for i in coding.index:\n",
    "    snpid = coding.loc[i, 3]+\"_\"+str(coding.loc[i, 4])\n",
    "    snpids.append(snpid)\n",
    "coding.index = snpids"
   ]
  },
  {
   "cell_type": "code",
   "execution_count": 51,
   "metadata": {},
   "outputs": [],
   "source": [
    "intergenic = pd.read_table(\"/u/home/j/jzou1115/project-zarlab/CFW/confidence_interval_pipeline_out_pruned/finemapping/output/annovar_input_snps.txt.variant_function\",sep=\"\\t\", header=None)\n",
    "snpids = []\n",
    "for i in intergenic.index:\n",
    "    snpid = intergenic.loc[i, 2]+\"_\"+str(intergenic.loc[i, 3])\n",
    "    snpids.append(snpid)\n",
    "intergenic.index = snpids"
   ]
  },
  {
   "cell_type": "code",
   "execution_count": 54,
   "metadata": {},
   "outputs": [],
   "source": [
    "coding_snps = set(coding.index)\n",
    "noncoding_snps = set(intergenic.index)"
   ]
  },
  {
   "cell_type": "code",
   "execution_count": 58,
   "metadata": {},
   "outputs": [
    {
     "data": {
      "text/plain": [
       "{'EDL.12.83885241',\n",
       " 'EDL.13.113025220',\n",
       " 'EDL.13.114188942',\n",
       " 'EDL.2.155780222',\n",
       " 'EDL.2.77669072',\n",
       " 'EDL.2.78722881',\n",
       " 'EDL.2.80039850',\n",
       " 'EDL.2.83000091',\n",
       " 'EDL.2.84134413',\n",
       " 'EDL.2.85453160',\n",
       " 'EDL.2.86662262',\n",
       " 'TA.11.18398304',\n",
       " 'TA.11.79522084',\n",
       " 'TA.11.88973232',\n",
       " 'TA.12.83514944',\n",
       " 'TA.13.9090078',\n",
       " 'TA.2.154645131',\n",
       " 'TA.2.155819633',\n",
       " 'activity.begin.11.93418612',\n",
       " 'activity.begin.11.94772022',\n",
       " 'activity.begin.11.96964818',\n",
       " 'activity.begin.13.7632884',\n",
       " 'activity.begin.13.8153523',\n",
       " 'activity.begin.13.9154368',\n",
       " 'activity.begin.2.153696216',\n",
       " 'activity.begin.2.89917236',\n",
       " 'activity.end.11.95636638',\n",
       " 'activity.end.11.96653605',\n",
       " 'activity.end.13.10150339',\n",
       " 'activity.end.13.6323352',\n",
       " 'activity.end.13.7101524',\n",
       " 'activity.end.13.8209788',\n",
       " 'activity.middle.11.93418604',\n",
       " 'activity.middle.11.94054029',\n",
       " 'activity.middle.11.95651415',\n",
       " 'activity.middle.11.96852500',\n",
       " 'activity.middle.13.10150339',\n",
       " 'activity.middle.13.7101524',\n",
       " 'activity.middle.13.8209788',\n",
       " 'activity.middle.13.8800578',\n",
       " 'activity.middle.2.152116228',\n",
       " 'activity.middle.2.153760436',\n",
       " 'activity.middle.2.89917236',\n",
       " 'activity.middle.9.81879809',\n",
       " 'activity.total.11.93418612',\n",
       " 'activity.total.11.95651415',\n",
       " 'activity.total.11.96653605',\n",
       " 'activity.total.13.10144490',\n",
       " 'activity.total.13.5954638',\n",
       " 'activity.total.13.7101524',\n",
       " 'activity.total.13.8144012',\n",
       " 'activity.total.13.8800578',\n",
       " 'activity.total.2.89914086',\n",
       " 'activity.total.9.81882866',\n",
       " 'activity30.13.10150339',\n",
       " 'activity30.13.6038915',\n",
       " 'activity30.13.7101524',\n",
       " 'activity30.13.8139647',\n",
       " 'activity5.13.8155366',\n",
       " 'basal.activity.11.95673447',\n",
       " 'basal.activity.11.96816215',\n",
       " 'basal.activity.13.10150339',\n",
       " 'basal.activity.13.6154389',\n",
       " 'basal.activity.13.7101524',\n",
       " 'basal.activity.13.8209788',\n",
       " 'bmd.11.100053320',\n",
       " 'bmd.11.93469819',\n",
       " 'bmd.11.94772022',\n",
       " 'bmd.11.95761488',\n",
       " 'bmd.11.96912238',\n",
       " 'bmd.15.86382123',\n",
       " 'bmd.18.38659321',\n",
       " 'bmd.5.21721308',\n",
       " 'bmd.5.23814155',\n",
       " 'bmd.5.24922475',\n",
       " 'bmd.5.27366822',\n",
       " 'bmd.a.11.94758993',\n",
       " 'bmd.a.11.95761488',\n",
       " 'bmd.a.11.96913720',\n",
       " 'bmd.n.11.95582360',\n",
       " 'bmd.n.11.96918212',\n",
       " 'bmd.n.18.38930957',\n",
       " 'bmd.n.5.23815043',\n",
       " 'bmd.n.5.24920012',\n",
       " 'gastroc.11.79954876',\n",
       " 'gastroc.11.88973192',\n",
       " 'gastroc.12.83517483',\n",
       " 'gastroc.2.155856984',\n",
       " 'glucose.1.152192170',\n",
       " 'habit.ratio.18.25412656',\n",
       " 'plantaris.13.116222549',\n",
       " 'plantaris.2.155812908',\n",
       " 'plantaris.4.85394581',\n",
       " 'plantaris.9.87855594',\n",
       " 'soleus.13.113404971',\n",
       " 'soleus.13.114802392',\n",
       " 'soleus.13.9242435',\n",
       " 'soleus.2.155505679',\n",
       " 'soleus.3.15783853',\n",
       " 'soleus.6.15600158',\n",
       " 'soleus.6.18123198',\n",
       " 'tail.length.8.79338858',\n",
       " 'tail.length.8.80905518',\n",
       " 'tail.length.8.81878779',\n",
       " 'tibia.11.32268598',\n",
       " 'tibia.11.33440009',\n",
       " 'tibia.11.95761488',\n",
       " 'tibia.11.96952835',\n",
       " 'tibia.12.83514944',\n",
       " 'tibia.12.91175287',\n",
       " 'tibia.12.91722613',\n",
       " 'tibia.15.11500538',\n",
       " 'tibia.15.12517342',\n",
       " 'tibia.5.39698535',\n",
       " 'tibia.5.40708978',\n",
       " 'tibia.6.145481081',\n",
       " 'tibia.6.147027848',\n",
       " 'tibia.6.147721449',\n",
       " 'tibia.6.148328439',\n",
       " 'tibia.9.80408302',\n",
       " 'tibia.9.81411377',\n",
       " 'tibia.9.83150389',\n",
       " 'tibia.9.85054834',\n",
       " 'weight.13.9217096',\n",
       " 'weight.17.34013000',\n",
       " 'weight.17.34900243',\n",
       " 'weight.17.37094289',\n",
       " 'weight.bmi.tibia.12.83323871',\n",
       " 'weight.bmi.tibia.13.5655594',\n",
       " 'weight.bmi.tibia.13.8924722',\n",
       " 'weight.bmi.tibia.17.34013675',\n",
       " 'weight.bmi.tibia.17.34822977',\n",
       " 'weight.bmi.tibia.2.153707637'}"
      ]
     },
     "execution_count": 58,
     "metadata": {},
     "output_type": "execute_result"
    }
   ],
   "source": [
    "qtls"
   ]
  },
  {
   "cell_type": "code",
   "execution_count": 66,
   "metadata": {},
   "outputs": [
    {
     "name": "stdout",
     "output_type": "stream",
     "text": [
      "chr12_83885241\n",
      "chr13_7101524\n",
      "chr11_100053320\n",
      "chr6_147027848\n",
      "chr5_24922475\n",
      "chr11_79522084\n",
      "chr13_6038915\n",
      "chr13_9090078\n",
      "chr9_80408302\n",
      "chr11_93418612\n",
      "chr15_12517342\n",
      "chr5_21721308\n",
      "chr2_155819633\n",
      "chr12_91175287\n",
      "chr9_87855594\n",
      "chr9_83150389\n",
      "chr2_155780222\n",
      "chr2_86662262\n",
      "chr17_34822977\n",
      "chr8_80905518\n",
      "chr18_38659321\n",
      "chr6_148328439\n",
      "chr13_7101524\n",
      "chr13_7101524\n",
      "chr2_84134413\n",
      "chr6_15600158\n",
      "chr13_7101524\n",
      "chr2_155505679\n",
      "chr8_81878779\n",
      "chr11_94772022\n",
      "chr3_15783853\n",
      "chr2_154645131\n",
      "chr9_85054834\n",
      "chr13_7101524\n",
      "chr13_5954638\n",
      "chr5_27366822\n",
      "chr6_147721449\n",
      "chr2_155812908\n",
      "chr6_145481081\n",
      "chr17_34013000\n",
      "chr11_94758993\n",
      "chr17_34900243\n",
      "chr4_85394581\n",
      "chr11_96952835\n",
      "chr12_83323871\n",
      "chr13_9154368\n",
      "chr17_37094289\n"
     ]
    }
   ],
   "source": [
    "output = {}\n",
    "output[\"QTL\"] = []\n",
    "output[\"SNP\"] = []\n",
    "output[\"type\"] = []\n",
    "output[\"annovar\"] = []\n",
    "\n",
    "for qtl in qtls:\n",
    "    f = \"/u/home/j/jzou1115/project-zarlab/CFW/confidence_interval_pipeline_out_pruned/finemapping/output/\"+qtl+\"_annovar_input.txt\"\n",
    "    if os.stat(f).st_size == 0:\n",
    "        continue\n",
    "    snps = pd.read_table(f, header=None)\n",
    "    \n",
    "    d = os.path.dirname(f)\n",
    "    \n",
    "    snpids = []\n",
    "    qtl_tokens = qtl.split(\".\")\n",
    "    snpids.append(\"chr\"+str(qtl_tokens[-2])+\"_\"+str(qtl_tokens[-1]))\n",
    "    for i in snps.index:\n",
    "        chrm = str(snps.loc[i, 0])\n",
    "        pos = str(snps.loc[i, 1])\n",
    "        snpids.append(chrm+\"_\"+pos)\n",
    "    \n",
    "    snpids = set(snpids)\n",
    "    for snpid in snpids:\n",
    "\n",
    "        if snpid in coding_snps:\n",
    "            sub = coding.loc[snpid,:]\n",
    "            for j in range(sub.shape[0]):\n",
    "                output[\"QTL\"].append(qtl)\n",
    "                output[\"SNP\"].append(snpid)\n",
    "                output[\"type\"].append(str(coding.iloc[j,1]))\n",
    "                output[\"annovar\"].append(str(coding.iloc[j,2]))\n",
    "        elif snpid in noncoding_snps:\n",
    "            sub = intergenic.loc[snpid,:]\n",
    "            for j in range(sub.shape[0]):\n",
    "                output[\"QTL\"].append(qtl)\n",
    "                output[\"SNP\"].append(snpid)\n",
    "                output[\"type\"].append(str(intergenic.iloc[j,0]))\n",
    "                output[\"annovar\"].append(str(intergenic.iloc[j,1]))\n",
    "        else:\n",
    "            print(snpid)\n",
    "            output[\"type\"].append(\"NA\")\n",
    "            output[\"annovar\"].append(\"NA\")\n",
    "            output[\"QTL\"].append(qtl)\n",
    "            output[\"SNP\"].append(snpid)           \n",
    "            \n",
    "   "
   ]
  },
  {
   "cell_type": "code",
   "execution_count": 67,
   "metadata": {},
   "outputs": [
    {
     "data": {
      "text/html": [
       "<div>\n",
       "<style scoped>\n",
       "    .dataframe tbody tr th:only-of-type {\n",
       "        vertical-align: middle;\n",
       "    }\n",
       "\n",
       "    .dataframe tbody tr th {\n",
       "        vertical-align: top;\n",
       "    }\n",
       "\n",
       "    .dataframe thead th {\n",
       "        text-align: right;\n",
       "    }\n",
       "</style>\n",
       "<table border=\"1\" class=\"dataframe\">\n",
       "  <thead>\n",
       "    <tr style=\"text-align: right;\">\n",
       "      <th></th>\n",
       "      <th>QTL</th>\n",
       "      <th>SNP</th>\n",
       "      <th>type</th>\n",
       "      <th>annovar</th>\n",
       "    </tr>\n",
       "  </thead>\n",
       "  <tbody>\n",
       "    <tr>\n",
       "      <th>0</th>\n",
       "      <td>soleus.13.9242435</td>\n",
       "      <td>chr13_9071094</td>\n",
       "      <td>intronic</td>\n",
       "      <td>Chrm3</td>\n",
       "    </tr>\n",
       "    <tr>\n",
       "      <th>1</th>\n",
       "      <td>soleus.13.9242435</td>\n",
       "      <td>chr13_9071094</td>\n",
       "      <td>intergenic</td>\n",
       "      <td>Pfkp(dist=930125),Adarb2(dist=623970)</td>\n",
       "    </tr>\n",
       "    <tr>\n",
       "      <th>2</th>\n",
       "      <td>soleus.13.9242435</td>\n",
       "      <td>chr13_9071094</td>\n",
       "      <td>intergenic</td>\n",
       "      <td>Pfkp(dist=1488424),Adarb2(dist=65671)</td>\n",
       "    </tr>\n",
       "    <tr>\n",
       "      <th>3</th>\n",
       "      <td>soleus.13.9242435</td>\n",
       "      <td>chr13_9071094</td>\n",
       "      <td>intergenic</td>\n",
       "      <td>Pfkp(dist=874807),Adarb2(dist=679288)</td>\n",
       "    </tr>\n",
       "    <tr>\n",
       "      <th>4</th>\n",
       "      <td>soleus.13.9242435</td>\n",
       "      <td>chr13_9071094</td>\n",
       "      <td>intergenic</td>\n",
       "      <td>Pfkp(dist=1312689),Adarb2(dist=241406)</td>\n",
       "    </tr>\n",
       "  </tbody>\n",
       "</table>\n",
       "</div>"
      ],
      "text/plain": [
       "                 QTL            SNP        type  \\\n",
       "0  soleus.13.9242435  chr13_9071094    intronic   \n",
       "1  soleus.13.9242435  chr13_9071094  intergenic   \n",
       "2  soleus.13.9242435  chr13_9071094  intergenic   \n",
       "3  soleus.13.9242435  chr13_9071094  intergenic   \n",
       "4  soleus.13.9242435  chr13_9071094  intergenic   \n",
       "\n",
       "                                  annovar  \n",
       "0                                   Chrm3  \n",
       "1   Pfkp(dist=930125),Adarb2(dist=623970)  \n",
       "2   Pfkp(dist=1488424),Adarb2(dist=65671)  \n",
       "3   Pfkp(dist=874807),Adarb2(dist=679288)  \n",
       "4  Pfkp(dist=1312689),Adarb2(dist=241406)  "
      ]
     },
     "execution_count": 67,
     "metadata": {},
     "output_type": "execute_result"
    }
   ],
   "source": [
    "output = pd.DataFrame(output)\n",
    "output.head()"
   ]
  },
  {
   "cell_type": "code",
   "execution_count": 68,
   "metadata": {},
   "outputs": [
    {
     "data": {
      "text/plain": [
       "{'NA',\n",
       " 'intergenic',\n",
       " 'intronic',\n",
       " 'nonsynonymous SNV',\n",
       " 'stopgain',\n",
       " 'synonymous SNV'}"
      ]
     },
     "execution_count": 68,
     "metadata": {},
     "output_type": "execute_result"
    }
   ],
   "source": [
    "set(output[\"type\"])"
   ]
  },
  {
   "cell_type": "code",
   "execution_count": 69,
   "metadata": {},
   "outputs": [],
   "source": [
    "output.to_csv(\"/u/home/j/jzou1115/project-zarlab/CFW/confidence_interval_pipeline_out_pruned/finemapping/output/susier_sets_annovar.txt\", sep=\"\\t\", index=False)"
   ]
  },
  {
   "cell_type": "code",
   "execution_count": 70,
   "metadata": {},
   "outputs": [
    {
     "data": {
      "text/plain": [
       "(463, 4)"
      ]
     },
     "execution_count": 70,
     "metadata": {},
     "output_type": "execute_result"
    }
   ],
   "source": [
    "nonsyn = output[output[\"type\"]==\"nonsynonymous SNV\"]\n",
    "nonsyn.shape"
   ]
  },
  {
   "cell_type": "code",
   "execution_count": 71,
   "metadata": {},
   "outputs": [],
   "source": [
    "nonsyn.to_csv(\"/u/home/j/jzou1115/project-zarlab/CFW/confidence_interval_pipeline_out_pruned/finemapping/output/susier_sets_annovar_nonsyn.txt\", sep=\"\\t\", index=False)"
   ]
  },
  {
   "cell_type": "markdown",
   "metadata": {},
   "source": [
    "# analyze annovar output"
   ]
  },
  {
   "cell_type": "code",
   "execution_count": 72,
   "metadata": {},
   "outputs": [],
   "source": [
    "df = pd.read_table(\"/u/home/j/jzou1115/project-zarlab/CFW/confidence_interval_pipeline_out_pruned/finemapping/output/susier_sets_annovar.txt\")"
   ]
  },
  {
   "cell_type": "code",
   "execution_count": 73,
   "metadata": {},
   "outputs": [],
   "source": [
    "phenotypes = []\n",
    "for i in df.index:\n",
    "    qtl = df.loc[i, \"QTL\"]\n",
    "    tokens = qtl.split(\".\")\n",
    "    pheno = \".\".join(tokens[:-2])\n",
    "    phenotypes.append(pheno)\n",
    "    \n",
    "df[\"phenotype\"] = phenotypes"
   ]
  },
  {
   "cell_type": "code",
   "execution_count": 74,
   "metadata": {},
   "outputs": [
    {
     "data": {
      "text/html": [
       "<div>\n",
       "<style scoped>\n",
       "    .dataframe tbody tr th:only-of-type {\n",
       "        vertical-align: middle;\n",
       "    }\n",
       "\n",
       "    .dataframe tbody tr th {\n",
       "        vertical-align: top;\n",
       "    }\n",
       "\n",
       "    .dataframe thead th {\n",
       "        text-align: right;\n",
       "    }\n",
       "</style>\n",
       "<table border=\"1\" class=\"dataframe\">\n",
       "  <thead>\n",
       "    <tr style=\"text-align: right;\">\n",
       "      <th></th>\n",
       "      <th>QTL</th>\n",
       "      <th>SNP</th>\n",
       "      <th>type</th>\n",
       "      <th>annovar</th>\n",
       "      <th>phenotype</th>\n",
       "    </tr>\n",
       "  </thead>\n",
       "  <tbody>\n",
       "    <tr>\n",
       "      <th>0</th>\n",
       "      <td>soleus.13.9242435</td>\n",
       "      <td>chr13_9071094</td>\n",
       "      <td>intronic</td>\n",
       "      <td>Chrm3</td>\n",
       "      <td>soleus</td>\n",
       "    </tr>\n",
       "    <tr>\n",
       "      <th>1</th>\n",
       "      <td>soleus.13.9242435</td>\n",
       "      <td>chr13_9071094</td>\n",
       "      <td>intergenic</td>\n",
       "      <td>Pfkp(dist=930125),Adarb2(dist=623970)</td>\n",
       "      <td>soleus</td>\n",
       "    </tr>\n",
       "    <tr>\n",
       "      <th>2</th>\n",
       "      <td>soleus.13.9242435</td>\n",
       "      <td>chr13_9071094</td>\n",
       "      <td>intergenic</td>\n",
       "      <td>Pfkp(dist=1488424),Adarb2(dist=65671)</td>\n",
       "      <td>soleus</td>\n",
       "    </tr>\n",
       "    <tr>\n",
       "      <th>3</th>\n",
       "      <td>soleus.13.9242435</td>\n",
       "      <td>chr13_9071094</td>\n",
       "      <td>intergenic</td>\n",
       "      <td>Pfkp(dist=874807),Adarb2(dist=679288)</td>\n",
       "      <td>soleus</td>\n",
       "    </tr>\n",
       "    <tr>\n",
       "      <th>4</th>\n",
       "      <td>soleus.13.9242435</td>\n",
       "      <td>chr13_9071094</td>\n",
       "      <td>intergenic</td>\n",
       "      <td>Pfkp(dist=1312689),Adarb2(dist=241406)</td>\n",
       "      <td>soleus</td>\n",
       "    </tr>\n",
       "  </tbody>\n",
       "</table>\n",
       "</div>"
      ],
      "text/plain": [
       "                 QTL            SNP        type  \\\n",
       "0  soleus.13.9242435  chr13_9071094    intronic   \n",
       "1  soleus.13.9242435  chr13_9071094  intergenic   \n",
       "2  soleus.13.9242435  chr13_9071094  intergenic   \n",
       "3  soleus.13.9242435  chr13_9071094  intergenic   \n",
       "4  soleus.13.9242435  chr13_9071094  intergenic   \n",
       "\n",
       "                                  annovar phenotype  \n",
       "0                                   Chrm3    soleus  \n",
       "1   Pfkp(dist=930125),Adarb2(dist=623970)    soleus  \n",
       "2   Pfkp(dist=1488424),Adarb2(dist=65671)    soleus  \n",
       "3   Pfkp(dist=874807),Adarb2(dist=679288)    soleus  \n",
       "4  Pfkp(dist=1312689),Adarb2(dist=241406)    soleus  "
      ]
     },
     "execution_count": 74,
     "metadata": {},
     "output_type": "execute_result"
    }
   ],
   "source": [
    "df.head()"
   ]
  },
  {
   "cell_type": "code",
   "execution_count": 75,
   "metadata": {},
   "outputs": [
    {
     "data": {
      "image/png": "[encoded data removed]",
      "text/plain": [
       "<Figure size 360x360 with 1 Axes>"
      ]
     },
     "metadata": {
      "needs_background": "light"
     },
     "output_type": "display_data"
    }
   ],
   "source": [
    "ax = sns.catplot(\"type\", data=df, kind=\"count\")\n",
    "ax.set_xticklabels(rotation=90)\n",
    "plt.xlabel(\"Type\")\n",
    "plt.ylabel(\"Number of variants\")\n",
    "plt.tight_layout()\n",
    "plt.savefig(\"/u/home/j/jzou1115/project-zarlab/CFW/confidence_interval_pipeline_out_pruned/finemapping/output/num_variants_by_type.png\")"
   ]
  },
  {
   "cell_type": "code",
   "execution_count": 84,
   "metadata": {},
   "outputs": [
    {
     "data": {
      "text/html": [
       "<div>\n",
       "<style scoped>\n",
       "    .dataframe tbody tr th:only-of-type {\n",
       "        vertical-align: middle;\n",
       "    }\n",
       "\n",
       "    .dataframe tbody tr th {\n",
       "        vertical-align: top;\n",
       "    }\n",
       "\n",
       "    .dataframe thead th {\n",
       "        text-align: right;\n",
       "    }\n",
       "</style>\n",
       "<table border=\"1\" class=\"dataframe\">\n",
       "  <thead>\n",
       "    <tr style=\"text-align: right;\">\n",
       "      <th></th>\n",
       "      <th>QTL</th>\n",
       "      <th>SNP</th>\n",
       "      <th>type</th>\n",
       "      <th>annovar</th>\n",
       "      <th>phenotype</th>\n",
       "    </tr>\n",
       "  </thead>\n",
       "  <tbody>\n",
       "  </tbody>\n",
       "</table>\n",
       "</div>"
      ],
      "text/plain": [
       "Empty DataFrame\n",
       "Columns: [QTL, SNP, type, annovar, phenotype]\n",
       "Index: []"
      ]
     },
     "execution_count": 84,
     "metadata": {},
     "output_type": "execute_result"
    }
   ],
   "source": [
    "df[df[\"type\"]==\"upstream\"].head()"
   ]
  },
  {
   "cell_type": "code",
   "execution_count": 81,
   "metadata": {},
   "outputs": [],
   "source": [
    "def parseGenes(d):\n",
    "    genes = []\n",
    "    for i in d.index:\n",
    "        a = str(d.loc[i, \"annovar\"])\n",
    "        t = str(d.loc[i, \"type\"])\n",
    "\n",
    "        if t==\"upstream\" or t==\"downstream\" or  t==\"UTR3\" or t==\"UTR5\":\n",
    "            tokens = a.split(\"(\")\n",
    "            genes.append(tokens[0])\n",
    "        elif t=='upstream;downstream':\n",
    "            tokens = a.split(\";\")\n",
    "            for g in tokens:\n",
    "                tokens2 = g.split(\"(\")\n",
    "                genes.append(tokens2[0].split(\":\")[0])\n",
    "        elif t=='nonsynonymous SNV' or t =='synonymous SNV':\n",
    "            tokens = a.split(\",\")\n",
    "            for g in tokens[:-1]:\n",
    "                genes.append(g.split(\":\")[0])\n",
    "        elif pd.isnull(t):\n",
    "            continue\n",
    "        else:\n",
    "            tokens = a.split(\",\")\n",
    "            for g in tokens:\n",
    "                tokens2 = g.split(\"(\")\n",
    "                genes.append(tokens2[0])\n",
    "                \n",
    "    return genes\n",
    "\n",
    "    "
   ]
  },
  {
   "cell_type": "code",
   "execution_count": 82,
   "metadata": {},
   "outputs": [
    {
     "name": "stdout",
     "output_type": "stream",
     "text": [
      "activity.begin\n",
      "activity5\n",
      "glucose\n",
      "basal.activity\n",
      "tail.length\n",
      "weight\n",
      "soleus\n",
      "tibia\n",
      "habit.ratio\n",
      "plantaris\n",
      "activity30\n",
      "activity.total\n",
      "TA\n",
      "activity.end\n",
      "EDL\n",
      "bmd\n",
      "weight.bmi.tibia\n",
      "gastroc\n",
      "bmd.a\n",
      "activity.middle\n",
      "bmd.n\n"
     ]
    }
   ],
   "source": [
    "for pheno in set(phenotypes):\n",
    "    if pd.isnull(pheno):\n",
    "        continue\n",
    "    print(pheno)\n",
    "    d = df[df[\"phenotype\"]==pheno]\n",
    "    genes = parseGenes(d)\n",
    "    outfile = open(\"/u/home/j/jzou1115/project-zarlab/CFW/confidence_interval_pipeline_out_pruned/finemapping/output/\"+pheno+\"_annovar_genes_unique.txt\", \"w\")\n",
    "    genes = set(genes)\n",
    "    for g in genes:\n",
    "        outfile.write(g+\"\\n\")\n",
    "    outfile.close()"
   ]
  },
  {
   "cell_type": "code",
   "execution_count": 83,
   "metadata": {},
   "outputs": [
    {
     "data": {
      "text/plain": [
       "15"
      ]
     },
     "execution_count": 83,
     "metadata": {},
     "output_type": "execute_result"
    }
   ],
   "source": [
    "unique_genes = set(genes)\n",
    "len(unique_genes)"
   ]
  },
  {
   "cell_type": "code",
   "execution_count": 79,
   "metadata": {},
   "outputs": [
    {
     "data": {
      "text/plain": [
       "{'',\n",
       " 'Adarb2',\n",
       " 'Cdk5rap3',\n",
       " 'Chrm3',\n",
       " 'Copz2:NM_019877:exon1:c.C85T:p.R29X',\n",
       " 'Irak1bp1',\n",
       " 'Klf6',\n",
       " 'Mei4',\n",
       " 'Nfe2l1',\n",
       " 'Olfr1260',\n",
       " 'Pfkp',\n",
       " 'Phb',\n",
       " 'Pitrm1',\n",
       " 'Skap1',\n",
       " 'Sp6'}"
      ]
     },
     "execution_count": 79,
     "metadata": {},
     "output_type": "execute_result"
    }
   ],
   "source": [
    "genes"
   ]
  },
  {
   "cell_type": "code",
   "execution_count": null,
   "metadata": {},
   "outputs": [],
   "source": []
  },
  {
   "cell_type": "code",
   "execution_count": null,
   "metadata": {},
   "outputs": [],
   "source": []
  }
 ],
 "metadata": {
  "kernelspec": {
   "display_name": "Python 3",
   "language": "python",
   "name": "python3"
  },
  "language_info": {
   "codemirror_mode": {
    "name": "ipython",
    "version": 3
   },
   "file_extension": ".py",
   "mimetype": "text/x-python",
   "name": "python",
   "nbconvert_exporter": "python",
   "pygments_lexer": "ipython3",
   "version": "3.7.6"
  }
 },
 "nbformat": 4,
 "nbformat_minor": 4
}
