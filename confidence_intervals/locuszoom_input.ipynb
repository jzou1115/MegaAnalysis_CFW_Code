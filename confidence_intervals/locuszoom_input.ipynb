{
 "cells": [
  {
   "cell_type": "code",
   "execution_count": 19,
   "metadata": {},
   "outputs": [],
   "source": [
    "import pandas as pd\n",
    "import numpy as np\n",
    "import matplotlib.pyplot as plt\n",
    "import seaborn as sns\n",
    "import glob\n",
    "import gzip\n",
    "import os"
   ]
  },
  {
   "cell_type": "code",
   "execution_count": 2,
   "metadata": {},
   "outputs": [
    {
     "name": "stdout",
     "output_type": "stream",
     "text": [
      "68\n"
     ]
    }
   ],
   "source": [
    "gemma_dir = \"/u/home/j/jzou1115/project-zarlab/CFW/MegaAnalysis_CFW_2019_Summary_Statistics/COMBINED\"\n",
    "gemma_files = glob.glob(gemma_dir+\"/*\")\n",
    "print(len(gemma_files))"
   ]
  },
  {
   "cell_type": "markdown",
   "metadata": {},
   "source": [
    "# snp files\n",
    "- https://genome.sph.umich.edu/wiki/LocusZoom_Standalone#METAL_formatted_file\n",
    "- MarkerName\tP-value"
   ]
  },
  {
   "cell_type": "code",
   "execution_count": 6,
   "metadata": {},
   "outputs": [],
   "source": [
    "header = [\"MarkerName\", \"P-value\"]"
   ]
  },
  {
   "cell_type": "code",
   "execution_count": 7,
   "metadata": {},
   "outputs": [],
   "source": [
    "for file in gemma_files:\n",
    "    f = pd.read_csv(file, sep=\"\\t\")\n",
    "    out = f.loc[:,[\"rs\", \"p_wald\"]]\n",
    "    out.columns = header\n",
    "    outfile = file[:-7]+\"_locuszoom.txt.gz\"\n",
    "    out.to_csv(outfile, header=True, index=False, sep=\"\\t\")"
   ]
  },
  {
   "cell_type": "markdown",
   "metadata": {},
   "source": [
    "# ld files\n",
    "\n",
    "User-supplied LD\n",
    "If new_fugue is installed, LocusZoom will automatically compute LD between the reference SNP and all other SNPs within each region to be plotted. However, you may wish to provide your own file with LD information. This can be done with the --ld option, which requires a file of the following format:\n",
    "\n",
    "\n",
    "Columns\n",
    "1. snp1: Any SNP in your plotting region.\n",
    "2. snp2: Should always be the reference SNP in the region.\n",
    "3. dprime: D' between snp2 (reference SNP) and snp1.\n",
    "4. rsquare: r2 between snp2 (reference SNP) and snp1.\n",
    "\n",
    "The dprime column can be all missing if it is not known. Rsquare must be present, and must be valid data.\n",
    "\n",
    "The file should be whitespace delimited, and the header (column names shown above) must exist."
   ]
  },
  {
   "cell_type": "code",
   "execution_count": 2,
   "metadata": {},
   "outputs": [
    {
     "data": {
      "text/html": [
       "<div>\n",
       "<style scoped>\n",
       "    .dataframe tbody tr th:only-of-type {\n",
       "        vertical-align: middle;\n",
       "    }\n",
       "\n",
       "    .dataframe tbody tr th {\n",
       "        vertical-align: top;\n",
       "    }\n",
       "\n",
       "    .dataframe thead th {\n",
       "        text-align: right;\n",
       "    }\n",
       "</style>\n",
       "<table border=\"1\" class=\"dataframe\">\n",
       "  <thead>\n",
       "    <tr style=\"text-align: right;\">\n",
       "      <th></th>\n",
       "      <th>phenotype</th>\n",
       "      <th>logP</th>\n",
       "      <th>chr</th>\n",
       "      <th>bp</th>\n",
       "      <th>quantile</th>\n",
       "      <th>delta.logP</th>\n",
       "      <th>from.bp</th>\n",
       "      <th>to.bp</th>\n",
       "      <th>width.bp</th>\n",
       "      <th>n.snps</th>\n",
       "      <th>fine.bp</th>\n",
       "      <th>fine.logP</th>\n",
       "      <th>fine.from.bp</th>\n",
       "      <th>fine.to.bp</th>\n",
       "      <th>fine.width.bp</th>\n",
       "      <th>fine.n.snps</th>\n",
       "      <th>fine.CI.logP</th>\n",
       "      <th>fine.CI.bp</th>\n",
       "      <th>fine.CI.from.bp</th>\n",
       "      <th>fine.CI.to.bp</th>\n",
       "    </tr>\n",
       "  </thead>\n",
       "  <tbody>\n",
       "    <tr>\n",
       "      <th>4</th>\n",
       "      <td>activity30</td>\n",
       "      <td>8.494170</td>\n",
       "      <td>13</td>\n",
       "      <td>8139647</td>\n",
       "      <td>0.95</td>\n",
       "      <td>1.535661</td>\n",
       "      <td>7101524.0</td>\n",
       "      <td>8211378.0</td>\n",
       "      <td>1109855.0</td>\n",
       "      <td>4883.0</td>\n",
       "      <td>NaN</td>\n",
       "      <td>NaN</td>\n",
       "      <td>NaN</td>\n",
       "      <td>NaN</td>\n",
       "      <td>NaN</td>\n",
       "      <td>NaN</td>\n",
       "      <td>NaN</td>\n",
       "      <td>NaN</td>\n",
       "      <td>NaN</td>\n",
       "      <td>NaN</td>\n",
       "    </tr>\n",
       "    <tr>\n",
       "      <th>9</th>\n",
       "      <td>activity.begin</td>\n",
       "      <td>6.295724</td>\n",
       "      <td>11</td>\n",
       "      <td>96964818</td>\n",
       "      <td>0.95</td>\n",
       "      <td>1.599580</td>\n",
       "      <td>92663897.0</td>\n",
       "      <td>97100561.0</td>\n",
       "      <td>4436665.0</td>\n",
       "      <td>4598.0</td>\n",
       "      <td>NaN</td>\n",
       "      <td>NaN</td>\n",
       "      <td>NaN</td>\n",
       "      <td>NaN</td>\n",
       "      <td>NaN</td>\n",
       "      <td>NaN</td>\n",
       "      <td>NaN</td>\n",
       "      <td>NaN</td>\n",
       "      <td>NaN</td>\n",
       "      <td>NaN</td>\n",
       "    </tr>\n",
       "    <tr>\n",
       "      <th>14</th>\n",
       "      <td>activity.begin</td>\n",
       "      <td>6.030024</td>\n",
       "      <td>2</td>\n",
       "      <td>153696216</td>\n",
       "      <td>0.95</td>\n",
       "      <td>1.514107</td>\n",
       "      <td>153342082.0</td>\n",
       "      <td>153879574.0</td>\n",
       "      <td>537493.0</td>\n",
       "      <td>312.0</td>\n",
       "      <td>NaN</td>\n",
       "      <td>NaN</td>\n",
       "      <td>NaN</td>\n",
       "      <td>NaN</td>\n",
       "      <td>NaN</td>\n",
       "      <td>NaN</td>\n",
       "      <td>NaN</td>\n",
       "      <td>NaN</td>\n",
       "      <td>NaN</td>\n",
       "      <td>NaN</td>\n",
       "    </tr>\n",
       "    <tr>\n",
       "      <th>19</th>\n",
       "      <td>activity.end</td>\n",
       "      <td>7.969123</td>\n",
       "      <td>11</td>\n",
       "      <td>96653605</td>\n",
       "      <td>0.95</td>\n",
       "      <td>1.598966</td>\n",
       "      <td>96583134.0</td>\n",
       "      <td>96912135.0</td>\n",
       "      <td>329002.0</td>\n",
       "      <td>1198.0</td>\n",
       "      <td>NaN</td>\n",
       "      <td>NaN</td>\n",
       "      <td>NaN</td>\n",
       "      <td>NaN</td>\n",
       "      <td>NaN</td>\n",
       "      <td>NaN</td>\n",
       "      <td>NaN</td>\n",
       "      <td>NaN</td>\n",
       "      <td>NaN</td>\n",
       "      <td>NaN</td>\n",
       "    </tr>\n",
       "    <tr>\n",
       "      <th>24</th>\n",
       "      <td>activity.end</td>\n",
       "      <td>6.054185</td>\n",
       "      <td>13</td>\n",
       "      <td>10746304</td>\n",
       "      <td>0.95</td>\n",
       "      <td>1.604569</td>\n",
       "      <td>5954638.0</td>\n",
       "      <td>10765251.0</td>\n",
       "      <td>4810614.0</td>\n",
       "      <td>27066.0</td>\n",
       "      <td>NaN</td>\n",
       "      <td>NaN</td>\n",
       "      <td>NaN</td>\n",
       "      <td>NaN</td>\n",
       "      <td>NaN</td>\n",
       "      <td>NaN</td>\n",
       "      <td>NaN</td>\n",
       "      <td>NaN</td>\n",
       "      <td>NaN</td>\n",
       "      <td>NaN</td>\n",
       "    </tr>\n",
       "  </tbody>\n",
       "</table>\n",
       "</div>"
      ],
      "text/plain": [
       "         phenotype      logP  chr         bp  quantile  delta.logP  \\\n",
       "4       activity30  8.494170   13    8139647      0.95    1.535661   \n",
       "9   activity.begin  6.295724   11   96964818      0.95    1.599580   \n",
       "14  activity.begin  6.030024    2  153696216      0.95    1.514107   \n",
       "19    activity.end  7.969123   11   96653605      0.95    1.598966   \n",
       "24    activity.end  6.054185   13   10746304      0.95    1.604569   \n",
       "\n",
       "        from.bp        to.bp   width.bp   n.snps  fine.bp  fine.logP  \\\n",
       "4     7101524.0    8211378.0  1109855.0   4883.0      NaN        NaN   \n",
       "9    92663897.0   97100561.0  4436665.0   4598.0      NaN        NaN   \n",
       "14  153342082.0  153879574.0   537493.0    312.0      NaN        NaN   \n",
       "19   96583134.0   96912135.0   329002.0   1198.0      NaN        NaN   \n",
       "24    5954638.0   10765251.0  4810614.0  27066.0      NaN        NaN   \n",
       "\n",
       "    fine.from.bp  fine.to.bp  fine.width.bp  fine.n.snps  fine.CI.logP  \\\n",
       "4            NaN         NaN            NaN          NaN           NaN   \n",
       "9            NaN         NaN            NaN          NaN           NaN   \n",
       "14           NaN         NaN            NaN          NaN           NaN   \n",
       "19           NaN         NaN            NaN          NaN           NaN   \n",
       "24           NaN         NaN            NaN          NaN           NaN   \n",
       "\n",
       "    fine.CI.bp  fine.CI.from.bp  fine.CI.to.bp  \n",
       "4          NaN              NaN            NaN  \n",
       "9          NaN              NaN            NaN  \n",
       "14         NaN              NaN            NaN  \n",
       "19         NaN              NaN            NaN  \n",
       "24         NaN              NaN            NaN  "
      ]
     },
     "execution_count": 2,
     "metadata": {},
     "output_type": "execute_result"
    }
   ],
   "source": [
    "ci = pd.read_table(\"/u/home/j/jzou1115/project-zarlab/CFW/confidence_intervals/output2/confidence_intervals/CI_pruned.txt\")\n",
    "ci = ci.dropna(subset=[\"from.bp\", \"to.bp\"])\n",
    "ci_95 = ci[ci[\"quantile\"]==.95]\n",
    "ci_95.head()"
   ]
  },
  {
   "cell_type": "code",
   "execution_count": 30,
   "metadata": {},
   "outputs": [
    {
     "data": {
      "text/plain": [
       "(32, 20)"
      ]
     },
     "execution_count": 30,
     "metadata": {},
     "output_type": "execute_result"
    }
   ],
   "source": [
    "ci_95.shape"
   ]
  },
  {
   "cell_type": "code",
   "execution_count": 3,
   "metadata": {},
   "outputs": [],
   "source": [
    "g_dir=\"/u/home/j/jzou1115/project-zarlab/CFW/MegaAnalysis_CFW_2019/genotypes/oxinfo90\"\n",
    "outdir=\"/u/home/j/jzou1115/project-zarlab/CFW/confidence_intervals/output2/ld\""
   ]
  },
  {
   "cell_type": "code",
   "execution_count": 28,
   "metadata": {},
   "outputs": [
    {
     "name": "stdout",
     "output_type": "stream",
     "text": [
      "activity30_chr13_8139647\n",
      "activity.begin_chr11_96964818\n",
      "activity.begin_chr2_153696216\n",
      "activity.end_chr11_96653605\n",
      "activity.end_chr13_10746304\n",
      "activity.middle_chr9_81879809\n",
      "activity.total_chr11_96653605\n",
      "activity.total_chr13_10144490\n",
      "basal.activity_chr11_96816215\n",
      "bmd_chr11_94772022\n",
      "bmd_chr15_86382123\n",
      "bmd_chr5_21721308\n",
      "bmd.a_chr11_94882898\n",
      "bmd.a_chr11_96913720\n",
      "EDL_chr13_113025220\n"
     ]
    },
    {
     "ename": "KeyboardInterrupt",
     "evalue": "",
     "output_type": "error",
     "traceback": [
      "\u001b[0;31m---------------------------------------------------------------------------\u001b[0m",
      "\u001b[0;31mKeyboardInterrupt\u001b[0m                         Traceback (most recent call last)",
      "\u001b[0;32m<ipython-input-28-5be14f900b37>\u001b[0m in \u001b[0;36m<module>\u001b[0;34m\u001b[0m\n\u001b[1;32m     28\u001b[0m \u001b[0;34m\u001b[0m\u001b[0m\n\u001b[1;32m     29\u001b[0m \u001b[0;34m\u001b[0m\u001b[0m\n\u001b[0;32m---> 30\u001b[0;31m     \u001b[0mdosages\u001b[0m \u001b[0;34m=\u001b[0m \u001b[0mpd\u001b[0m\u001b[0;34m.\u001b[0m\u001b[0mDataFrame\u001b[0m\u001b[0;34m(\u001b[0m\u001b[0mdosages\u001b[0m\u001b[0;34m)\u001b[0m\u001b[0;34m\u001b[0m\u001b[0;34m\u001b[0m\u001b[0m\n\u001b[0m\u001b[1;32m     31\u001b[0m     \u001b[0mdosages\u001b[0m\u001b[0;34m.\u001b[0m\u001b[0mindex\u001b[0m \u001b[0;34m=\u001b[0m \u001b[0mlocus\u001b[0m\u001b[0;34m\u001b[0m\u001b[0;34m\u001b[0m\u001b[0m\n\u001b[1;32m     32\u001b[0m \u001b[0;34m\u001b[0m\u001b[0m\n",
      "\u001b[0;32m~/project-ernst/software/anaconda3/lib/python3.7/site-packages/pandas/core/frame.py\u001b[0m in \u001b[0;36m__init__\u001b[0;34m(self, data, index, columns, dtype, copy)\u001b[0m\n\u001b[1;32m    472\u001b[0m                     \u001b[0;32mif\u001b[0m \u001b[0mis_named_tuple\u001b[0m\u001b[0;34m(\u001b[0m\u001b[0mdata\u001b[0m\u001b[0;34m[\u001b[0m\u001b[0;36m0\u001b[0m\u001b[0;34m]\u001b[0m\u001b[0;34m)\u001b[0m \u001b[0;32mand\u001b[0m \u001b[0mcolumns\u001b[0m \u001b[0;32mis\u001b[0m \u001b[0;32mNone\u001b[0m\u001b[0;34m:\u001b[0m\u001b[0;34m\u001b[0m\u001b[0;34m\u001b[0m\u001b[0m\n\u001b[1;32m    473\u001b[0m                         \u001b[0mcolumns\u001b[0m \u001b[0;34m=\u001b[0m \u001b[0mdata\u001b[0m\u001b[0;34m[\u001b[0m\u001b[0;36m0\u001b[0m\u001b[0;34m]\u001b[0m\u001b[0;34m.\u001b[0m\u001b[0m_fields\u001b[0m\u001b[0;34m\u001b[0m\u001b[0;34m\u001b[0m\u001b[0m\n\u001b[0;32m--> 474\u001b[0;31m                     \u001b[0marrays\u001b[0m\u001b[0;34m,\u001b[0m \u001b[0mcolumns\u001b[0m \u001b[0;34m=\u001b[0m \u001b[0mto_arrays\u001b[0m\u001b[0;34m(\u001b[0m\u001b[0mdata\u001b[0m\u001b[0;34m,\u001b[0m \u001b[0mcolumns\u001b[0m\u001b[0;34m,\u001b[0m \u001b[0mdtype\u001b[0m\u001b[0;34m=\u001b[0m\u001b[0mdtype\u001b[0m\u001b[0;34m)\u001b[0m\u001b[0;34m\u001b[0m\u001b[0;34m\u001b[0m\u001b[0m\n\u001b[0m\u001b[1;32m    475\u001b[0m                     \u001b[0mcolumns\u001b[0m \u001b[0;34m=\u001b[0m \u001b[0mensure_index\u001b[0m\u001b[0;34m(\u001b[0m\u001b[0mcolumns\u001b[0m\u001b[0;34m)\u001b[0m\u001b[0;34m\u001b[0m\u001b[0;34m\u001b[0m\u001b[0m\n\u001b[1;32m    476\u001b[0m \u001b[0;34m\u001b[0m\u001b[0m\n",
      "\u001b[0;32m~/project-ernst/software/anaconda3/lib/python3.7/site-packages/pandas/core/internals/construction.py\u001b[0m in \u001b[0;36mto_arrays\u001b[0;34m(data, columns, coerce_float, dtype)\u001b[0m\n\u001b[1;32m    459\u001b[0m         \u001b[0;32mreturn\u001b[0m \u001b[0;34m[\u001b[0m\u001b[0;34m]\u001b[0m\u001b[0;34m,\u001b[0m \u001b[0;34m[\u001b[0m\u001b[0;34m]\u001b[0m  \u001b[0;31m# columns if columns is not None else []\u001b[0m\u001b[0;34m\u001b[0m\u001b[0;34m\u001b[0m\u001b[0m\n\u001b[1;32m    460\u001b[0m     \u001b[0;32mif\u001b[0m \u001b[0misinstance\u001b[0m\u001b[0;34m(\u001b[0m\u001b[0mdata\u001b[0m\u001b[0;34m[\u001b[0m\u001b[0;36m0\u001b[0m\u001b[0;34m]\u001b[0m\u001b[0;34m,\u001b[0m \u001b[0;34m(\u001b[0m\u001b[0mlist\u001b[0m\u001b[0;34m,\u001b[0m \u001b[0mtuple\u001b[0m\u001b[0;34m)\u001b[0m\u001b[0;34m)\u001b[0m\u001b[0;34m:\u001b[0m\u001b[0;34m\u001b[0m\u001b[0;34m\u001b[0m\u001b[0m\n\u001b[0;32m--> 461\u001b[0;31m         \u001b[0;32mreturn\u001b[0m \u001b[0m_list_to_arrays\u001b[0m\u001b[0;34m(\u001b[0m\u001b[0mdata\u001b[0m\u001b[0;34m,\u001b[0m \u001b[0mcolumns\u001b[0m\u001b[0;34m,\u001b[0m \u001b[0mcoerce_float\u001b[0m\u001b[0;34m=\u001b[0m\u001b[0mcoerce_float\u001b[0m\u001b[0;34m,\u001b[0m \u001b[0mdtype\u001b[0m\u001b[0;34m=\u001b[0m\u001b[0mdtype\u001b[0m\u001b[0;34m)\u001b[0m\u001b[0;34m\u001b[0m\u001b[0;34m\u001b[0m\u001b[0m\n\u001b[0m\u001b[1;32m    462\u001b[0m     \u001b[0;32melif\u001b[0m \u001b[0misinstance\u001b[0m\u001b[0;34m(\u001b[0m\u001b[0mdata\u001b[0m\u001b[0;34m[\u001b[0m\u001b[0;36m0\u001b[0m\u001b[0;34m]\u001b[0m\u001b[0;34m,\u001b[0m \u001b[0mabc\u001b[0m\u001b[0;34m.\u001b[0m\u001b[0mMapping\u001b[0m\u001b[0;34m)\u001b[0m\u001b[0;34m:\u001b[0m\u001b[0;34m\u001b[0m\u001b[0;34m\u001b[0m\u001b[0m\n\u001b[1;32m    463\u001b[0m         return _list_of_dict_to_arrays(\n",
      "\u001b[0;32m~/project-ernst/software/anaconda3/lib/python3.7/site-packages/pandas/core/internals/construction.py\u001b[0m in \u001b[0;36m_list_to_arrays\u001b[0;34m(data, columns, coerce_float, dtype)\u001b[0m\n\u001b[1;32m    495\u001b[0m     \u001b[0;32mtry\u001b[0m\u001b[0;34m:\u001b[0m\u001b[0;34m\u001b[0m\u001b[0;34m\u001b[0m\u001b[0m\n\u001b[1;32m    496\u001b[0m         result = _convert_object_array(\n\u001b[0;32m--> 497\u001b[0;31m             \u001b[0mcontent\u001b[0m\u001b[0;34m,\u001b[0m \u001b[0mcolumns\u001b[0m\u001b[0;34m,\u001b[0m \u001b[0mdtype\u001b[0m\u001b[0;34m=\u001b[0m\u001b[0mdtype\u001b[0m\u001b[0;34m,\u001b[0m \u001b[0mcoerce_float\u001b[0m\u001b[0;34m=\u001b[0m\u001b[0mcoerce_float\u001b[0m\u001b[0;34m\u001b[0m\u001b[0;34m\u001b[0m\u001b[0m\n\u001b[0m\u001b[1;32m    498\u001b[0m         )\n\u001b[1;32m    499\u001b[0m     \u001b[0;32mexcept\u001b[0m \u001b[0mAssertionError\u001b[0m \u001b[0;32mas\u001b[0m \u001b[0me\u001b[0m\u001b[0;34m:\u001b[0m\u001b[0;34m\u001b[0m\u001b[0;34m\u001b[0m\u001b[0m\n",
      "\u001b[0;32m~/project-ernst/software/anaconda3/lib/python3.7/site-packages/pandas/core/internals/construction.py\u001b[0m in \u001b[0;36m_convert_object_array\u001b[0;34m(content, columns, coerce_float, dtype)\u001b[0m\n\u001b[1;32m    590\u001b[0m         \u001b[0;32mreturn\u001b[0m \u001b[0marr\u001b[0m\u001b[0;34m\u001b[0m\u001b[0;34m\u001b[0m\u001b[0m\n\u001b[1;32m    591\u001b[0m \u001b[0;34m\u001b[0m\u001b[0m\n\u001b[0;32m--> 592\u001b[0;31m     \u001b[0marrays\u001b[0m \u001b[0;34m=\u001b[0m \u001b[0;34m[\u001b[0m\u001b[0mconvert\u001b[0m\u001b[0;34m(\u001b[0m\u001b[0marr\u001b[0m\u001b[0;34m)\u001b[0m \u001b[0;32mfor\u001b[0m \u001b[0marr\u001b[0m \u001b[0;32min\u001b[0m \u001b[0mcontent\u001b[0m\u001b[0;34m]\u001b[0m\u001b[0;34m\u001b[0m\u001b[0;34m\u001b[0m\u001b[0m\n\u001b[0m\u001b[1;32m    593\u001b[0m \u001b[0;34m\u001b[0m\u001b[0m\n\u001b[1;32m    594\u001b[0m     \u001b[0;32mreturn\u001b[0m \u001b[0marrays\u001b[0m\u001b[0;34m,\u001b[0m \u001b[0mcolumns\u001b[0m\u001b[0;34m\u001b[0m\u001b[0;34m\u001b[0m\u001b[0m\n",
      "\u001b[0;32m~/project-ernst/software/anaconda3/lib/python3.7/site-packages/pandas/core/internals/construction.py\u001b[0m in \u001b[0;36m<listcomp>\u001b[0;34m(.0)\u001b[0m\n\u001b[1;32m    590\u001b[0m         \u001b[0;32mreturn\u001b[0m \u001b[0marr\u001b[0m\u001b[0;34m\u001b[0m\u001b[0;34m\u001b[0m\u001b[0m\n\u001b[1;32m    591\u001b[0m \u001b[0;34m\u001b[0m\u001b[0m\n\u001b[0;32m--> 592\u001b[0;31m     \u001b[0marrays\u001b[0m \u001b[0;34m=\u001b[0m \u001b[0;34m[\u001b[0m\u001b[0mconvert\u001b[0m\u001b[0;34m(\u001b[0m\u001b[0marr\u001b[0m\u001b[0;34m)\u001b[0m \u001b[0;32mfor\u001b[0m \u001b[0marr\u001b[0m \u001b[0;32min\u001b[0m \u001b[0mcontent\u001b[0m\u001b[0;34m]\u001b[0m\u001b[0;34m\u001b[0m\u001b[0;34m\u001b[0m\u001b[0m\n\u001b[0m\u001b[1;32m    593\u001b[0m \u001b[0;34m\u001b[0m\u001b[0m\n\u001b[1;32m    594\u001b[0m     \u001b[0;32mreturn\u001b[0m \u001b[0marrays\u001b[0m\u001b[0;34m,\u001b[0m \u001b[0mcolumns\u001b[0m\u001b[0;34m\u001b[0m\u001b[0;34m\u001b[0m\u001b[0m\n",
      "\u001b[0;32m~/project-ernst/software/anaconda3/lib/python3.7/site-packages/pandas/core/internals/construction.py\u001b[0m in \u001b[0;36mconvert\u001b[0;34m(arr)\u001b[0m\n\u001b[1;32m    586\u001b[0m     \u001b[0;32mdef\u001b[0m \u001b[0mconvert\u001b[0m\u001b[0;34m(\u001b[0m\u001b[0marr\u001b[0m\u001b[0;34m)\u001b[0m\u001b[0;34m:\u001b[0m\u001b[0;34m\u001b[0m\u001b[0;34m\u001b[0m\u001b[0m\n\u001b[1;32m    587\u001b[0m         \u001b[0;32mif\u001b[0m \u001b[0mdtype\u001b[0m \u001b[0;34m!=\u001b[0m \u001b[0mobject\u001b[0m \u001b[0;32mand\u001b[0m \u001b[0mdtype\u001b[0m \u001b[0;34m!=\u001b[0m \u001b[0mnp\u001b[0m\u001b[0;34m.\u001b[0m\u001b[0mobject\u001b[0m\u001b[0;34m:\u001b[0m\u001b[0;34m\u001b[0m\u001b[0;34m\u001b[0m\u001b[0m\n\u001b[0;32m--> 588\u001b[0;31m             \u001b[0marr\u001b[0m \u001b[0;34m=\u001b[0m \u001b[0mlib\u001b[0m\u001b[0;34m.\u001b[0m\u001b[0mmaybe_convert_objects\u001b[0m\u001b[0;34m(\u001b[0m\u001b[0marr\u001b[0m\u001b[0;34m,\u001b[0m \u001b[0mtry_float\u001b[0m\u001b[0;34m=\u001b[0m\u001b[0mcoerce_float\u001b[0m\u001b[0;34m)\u001b[0m\u001b[0;34m\u001b[0m\u001b[0;34m\u001b[0m\u001b[0m\n\u001b[0m\u001b[1;32m    589\u001b[0m             \u001b[0marr\u001b[0m \u001b[0;34m=\u001b[0m \u001b[0mmaybe_cast_to_datetime\u001b[0m\u001b[0;34m(\u001b[0m\u001b[0marr\u001b[0m\u001b[0;34m,\u001b[0m \u001b[0mdtype\u001b[0m\u001b[0;34m)\u001b[0m\u001b[0;34m\u001b[0m\u001b[0;34m\u001b[0m\u001b[0m\n\u001b[1;32m    590\u001b[0m         \u001b[0;32mreturn\u001b[0m \u001b[0marr\u001b[0m\u001b[0;34m\u001b[0m\u001b[0;34m\u001b[0m\u001b[0m\n",
      "\u001b[0;31mKeyboardInterrupt\u001b[0m: "
     ]
    }
   ],
   "source": [
    "for i in ci_95.index:\n",
    "    pheno = ci_95.loc[i, \"phenotype\"]\n",
    "    chrm = \"chr\"+str(ci_95.loc[i, \"chr\"])  \n",
    "    bp = str(ci_95.loc[i, \"bp\"])\n",
    "    qtl_id = \"_\".join([pheno, chrm, bp])\n",
    "    print(qtl_id)\n",
    "    if os.path.isfile(outdir+\"/\"+qtl_id+\"_r2.txt\"):\n",
    "        continue\n",
    "        \n",
    "    start_ci = ci_95.loc[i, \"from.bp\"]\n",
    "    end_ci = ci_95.loc[i, \"to.bp\"]\n",
    "    \n",
    "    locus = []\n",
    "    dosages = []\n",
    "    \n",
    "    with gzip.open(g_dir+\"/combined.\"+str(chrm)+\".oxinfo90.dosages.gz\",'rt') as f:\n",
    "        for line in f:\n",
    "\n",
    "            tokens = line.split(\"\\t\")\n",
    "            snp_tokens = tokens[0].split(\"_\")\n",
    "            pos = int(snp_tokens[1])\n",
    "            if pos >= start_ci and pos <= end_ci:\n",
    "                locus.append(tokens[0])\n",
    "            \n",
    "                dos = tokens[3:]\n",
    "                dos = [float(d) for d in dos]\n",
    "                dosages.append(dos)\n",
    "            \n",
    "        \n",
    "    dosages = pd.DataFrame(dosages)\n",
    "    dosages.index = locus\n",
    "\n",
    "    ref_snp = chrm+\"_\"+str(bp)\n",
    "\n",
    "    out = open(outdir+\"/\"+qtl_id+\"_r2.txt\", \"w\")\n",
    "    out.write(\"snp1\\tsnp2\\trsquare\\n\")\n",
    "    for snp in dosages.index:\n",
    "        if snp != ref_snp:\n",
    "            temp = dosages.loc[[ref_snp, snp], :]\n",
    "            temp = temp.transpose()\n",
    "            r = temp.corr()\n",
    "            r = r.loc[ref_snp,snp]\n",
    "            r2 = r*r\n",
    "                \n",
    "            out.write(snp+\"\\t\"+ref_snp+\"\\t\"+str(r2)+\"\\n\")\n",
    "    out.close()\n",
    "        \n",
    "    "
   ]
  },
  {
   "cell_type": "code",
   "execution_count": 23,
   "metadata": {},
   "outputs": [
    {
     "name": "stdout",
     "output_type": "stream",
     "text": [
      "activity30_chr13_8139647\n"
     ]
    }
   ],
   "source": [
    "    i = 4\n",
    "    pheno = ci_95.loc[i, \"phenotype\"]\n",
    "    chrm = \"chr\"+str(ci_95.loc[i, \"chr\"])  \n",
    "    bp = str(ci_95.loc[i, \"bp\"])\n",
    "    qtl_id = \"_\".join([pheno, chrm, bp])\n",
    "    print(qtl_id)\n",
    "    \n",
    "    start_ci = ci_95.loc[i, \"from.bp\"]\n",
    "    end_ci = ci_95.loc[i, \"to.bp\"]"
   ]
  },
  {
   "cell_type": "code",
   "execution_count": 24,
   "metadata": {},
   "outputs": [
    {
     "name": "stdout",
     "output_type": "stream",
     "text": [
      "7570\n"
     ]
    }
   ],
   "source": [
    "    locus = []\n",
    "    dosages = []\n",
    "    \n",
    "    with gzip.open(g_dir+\"/combined.\"+str(chrm)+\".oxinfo90.dosages.gz\",'rt') as f:\n",
    "        for line in f:\n",
    "\n",
    "            tokens = line.split(\"\\t\")\n",
    "            snp_tokens = tokens[0].split(\"_\")\n",
    "            pos = int(snp_tokens[1])\n",
    "            if pos >= start_ci and pos <= end_ci:\n",
    "                locus.append(tokens[0])\n",
    "            \n",
    "                dos = tokens[3:]\n",
    "                dos = [float(d) for d in dos]\n",
    "                dosages.append(dos)\n",
    "            \n",
    "        \n",
    "    print(len(locus)) "
   ]
  },
  {
   "cell_type": "code",
   "execution_count": 25,
   "metadata": {},
   "outputs": [],
   "source": [
    "    dosages = pd.DataFrame(dosages)\n",
    "    dosages.index = locus"
   ]
  },
  {
   "cell_type": "code",
   "execution_count": 26,
   "metadata": {},
   "outputs": [
    {
     "data": {
      "text/plain": [
       "(7570, 3234)"
      ]
     },
     "execution_count": 26,
     "metadata": {},
     "output_type": "execute_result"
    }
   ],
   "source": [
    "dosages.shape"
   ]
  },
  {
   "cell_type": "code",
   "execution_count": 18,
   "metadata": {},
   "outputs": [],
   "source": [
    "        out = open(outdir+\"/\"+qtl_id+\"_r2.txt\", \"w\")\n",
    "        out.write(\"snp1\\tsnp2\\trsquare\\n\")\n",
    "        for snp in dosages.index:\n",
    "            if snp != ref_snp:\n",
    "                temp = dosages.loc[[ref_snp, snp], :]\n",
    "                temp = temp.transpose()\n",
    "                r = temp.corr()\n",
    "                r = r.loc[ref_snp,snp]\n",
    "                r2 = r*r\n",
    "                \n",
    "                out.write(snp+\"\\t\"+ref_snp+\"\\t\"+str(r2)+\"\\n\")\n",
    "        out.close()"
   ]
  },
  {
   "cell_type": "code",
   "execution_count": null,
   "metadata": {},
   "outputs": [],
   "source": []
  }
 ],
 "metadata": {
  "kernelspec": {
   "display_name": "Python 3",
   "language": "python",
   "name": "python3"
  },
  "language_info": {
   "codemirror_mode": {
    "name": "ipython",
    "version": 3
   },
   "file_extension": ".py",
   "mimetype": "text/x-python",
   "name": "python",
   "nbconvert_exporter": "python",
   "pygments_lexer": "ipython3",
   "version": "3.7.6"
  }
 },
 "nbformat": 4,
 "nbformat_minor": 4
}
