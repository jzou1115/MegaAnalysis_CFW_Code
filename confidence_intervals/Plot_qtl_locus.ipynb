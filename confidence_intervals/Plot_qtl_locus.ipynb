{
 "cells": [
  {
   "cell_type": "code",
   "execution_count": 1,
   "metadata": {},
   "outputs": [],
   "source": [
    "import pandas as pd\n",
    "import numpy as np\n",
    "import matplotlib.pyplot as plt\n",
    "import seaborn as sns\n",
    "import glob \n",
    "from os.path import basename\n",
    "import math\n",
    "import os"
   ]
  },
  {
   "cell_type": "markdown",
   "metadata": {},
   "source": [
    "# QTLs with no confidence interval computed"
   ]
  },
  {
   "cell_type": "code",
   "execution_count": 3,
   "metadata": {},
   "outputs": [],
   "source": [
    "z_dir=\"/u/home/j/jzou1115/project-zarlab/CFW/MegaAnalysis_CFW_2019_Summary_Statistics/COMBINED\"\n",
    "ld_dir=\"/u/home/j/jzou1115/project-zarlab/CFW/confidence_intervals/output2/ld_NA\""
   ]
  },
  {
   "cell_type": "code",
   "execution_count": 4,
   "metadata": {},
   "outputs": [
    {
     "data": {
      "text/plain": [
       "['/u/home/j/jzou1115/project-zarlab/CFW/confidence_intervals/output2/ld_NA/bmd_chr11_96912238_r2.txt',\n",
       " '/u/home/j/jzou1115/project-zarlab/CFW/confidence_intervals/output2/ld_NA/gastroc_chr11_88973192_r2.txt',\n",
       " '/u/home/j/jzou1115/project-zarlab/CFW/confidence_intervals/output2/ld_NA/bmd_chr5_23814155_r2.txt',\n",
       " '/u/home/j/jzou1115/project-zarlab/CFW/confidence_intervals/output2/ld_NA/TA_chr11_88973232_r2.txt',\n",
       " '/u/home/j/jzou1115/project-zarlab/CFW/confidence_intervals/output2/ld_NA/glucose_chr1_152192170_r2.txt',\n",
       " '/u/home/j/jzou1115/project-zarlab/CFW/confidence_intervals/output2/ld_NA/soleus_chr13_113404971_r2.txt',\n",
       " '/u/home/j/jzou1115/project-zarlab/CFW/confidence_intervals/output2/ld_NA/tibia_chr12_83514944_r2.txt']"
      ]
     },
     "execution_count": 4,
     "metadata": {},
     "output_type": "execute_result"
    }
   ],
   "source": [
    "ld_files = glob.glob(ld_dir+\"/*\")\n",
    "ld_files"
   ]
  },
  {
   "cell_type": "code",
   "execution_count": 6,
   "metadata": {},
   "outputs": [
    {
     "data": {
      "text/plain": [
       "['bmd_chr11_96912238_r2.txt',\n",
       " 'gastroc_chr11_88973192_r2.txt',\n",
       " 'bmd_chr5_23814155_r2.txt',\n",
       " 'TA_chr11_88973232_r2.txt',\n",
       " 'glucose_chr1_152192170_r2.txt',\n",
       " 'soleus_chr13_113404971_r2.txt',\n",
       " 'tibia_chr12_83514944_r2.txt']"
      ]
     },
     "execution_count": 6,
     "metadata": {},
     "output_type": "execute_result"
    }
   ],
   "source": [
    "[ basename(f) for f in ld_files]"
   ]
  },
  {
   "cell_type": "code",
   "execution_count": 9,
   "metadata": {},
   "outputs": [
    {
     "data": {
      "text/html": [
       "<div>\n",
       "<style scoped>\n",
       "    .dataframe tbody tr th:only-of-type {\n",
       "        vertical-align: middle;\n",
       "    }\n",
       "\n",
       "    .dataframe tbody tr th {\n",
       "        vertical-align: top;\n",
       "    }\n",
       "\n",
       "    .dataframe thead th {\n",
       "        text-align: right;\n",
       "    }\n",
       "</style>\n",
       "<table border=\"1\" class=\"dataframe\">\n",
       "  <thead>\n",
       "    <tr style=\"text-align: right;\">\n",
       "      <th></th>\n",
       "      <th>snp1</th>\n",
       "      <th>snp2</th>\n",
       "      <th>rsquare</th>\n",
       "    </tr>\n",
       "  </thead>\n",
       "  <tbody>\n",
       "    <tr>\n",
       "      <th>0</th>\n",
       "      <td>chr11_92663897</td>\n",
       "      <td>chr11_96912238</td>\n",
       "      <td>0.000395</td>\n",
       "    </tr>\n",
       "    <tr>\n",
       "      <th>1</th>\n",
       "      <td>chr11_92663910</td>\n",
       "      <td>chr11_96912238</td>\n",
       "      <td>0.000392</td>\n",
       "    </tr>\n",
       "    <tr>\n",
       "      <th>2</th>\n",
       "      <td>chr11_92689710</td>\n",
       "      <td>chr11_96912238</td>\n",
       "      <td>0.006694</td>\n",
       "    </tr>\n",
       "    <tr>\n",
       "      <th>3</th>\n",
       "      <td>chr11_92701989</td>\n",
       "      <td>chr11_96912238</td>\n",
       "      <td>0.003013</td>\n",
       "    </tr>\n",
       "    <tr>\n",
       "      <th>4</th>\n",
       "      <td>chr11_92702558</td>\n",
       "      <td>chr11_96912238</td>\n",
       "      <td>0.006766</td>\n",
       "    </tr>\n",
       "  </tbody>\n",
       "</table>\n",
       "</div>"
      ],
      "text/plain": [
       "             snp1            snp2   rsquare\n",
       "0  chr11_92663897  chr11_96912238  0.000395\n",
       "1  chr11_92663910  chr11_96912238  0.000392\n",
       "2  chr11_92689710  chr11_96912238  0.006694\n",
       "3  chr11_92701989  chr11_96912238  0.003013\n",
       "4  chr11_92702558  chr11_96912238  0.006766"
      ]
     },
     "execution_count": 9,
     "metadata": {},
     "output_type": "execute_result"
    }
   ],
   "source": [
    "f = ld_files[0]\n",
    "pheno=\"bmd\"\n",
    "chrm = \"chr11\"\n",
    "bp=96912238\n",
    "dist_threshold=5000000\n",
    "start_ci = max(0, bp - dist_threshold)\n",
    "end_ci = bp + dist_threshold\n",
    "ld = pd.read_table(f)\n",
    "ld.head()"
   ]
  },
  {
   "cell_type": "code",
   "execution_count": 10,
   "metadata": {},
   "outputs": [
    {
     "data": {
      "text/plain": [
       "(24757, 3)"
      ]
     },
     "execution_count": 10,
     "metadata": {},
     "output_type": "execute_result"
    }
   ],
   "source": [
    "ld.shape"
   ]
  },
  {
   "cell_type": "code",
   "execution_count": 12,
   "metadata": {},
   "outputs": [
    {
     "data": {
      "text/html": [
       "<div>\n",
       "<style scoped>\n",
       "    .dataframe tbody tr th:only-of-type {\n",
       "        vertical-align: middle;\n",
       "    }\n",
       "\n",
       "    .dataframe tbody tr th {\n",
       "        vertical-align: top;\n",
       "    }\n",
       "\n",
       "    .dataframe thead th {\n",
       "        text-align: right;\n",
       "    }\n",
       "</style>\n",
       "<table border=\"1\" class=\"dataframe\">\n",
       "  <thead>\n",
       "    <tr style=\"text-align: right;\">\n",
       "      <th></th>\n",
       "      <th>chr</th>\n",
       "      <th>ps</th>\n",
       "      <th>n_miss</th>\n",
       "      <th>allele1</th>\n",
       "      <th>allele0</th>\n",
       "      <th>af</th>\n",
       "      <th>beta</th>\n",
       "      <th>se</th>\n",
       "      <th>l_remle</th>\n",
       "      <th>l_mle</th>\n",
       "      <th>p_wald</th>\n",
       "      <th>p_lrt</th>\n",
       "      <th>p_score</th>\n",
       "    </tr>\n",
       "    <tr>\n",
       "      <th>rs</th>\n",
       "      <th></th>\n",
       "      <th></th>\n",
       "      <th></th>\n",
       "      <th></th>\n",
       "      <th></th>\n",
       "      <th></th>\n",
       "      <th></th>\n",
       "      <th></th>\n",
       "      <th></th>\n",
       "      <th></th>\n",
       "      <th></th>\n",
       "      <th></th>\n",
       "      <th></th>\n",
       "    </tr>\n",
       "  </thead>\n",
       "  <tbody>\n",
       "    <tr>\n",
       "      <th>chr1_4118414</th>\n",
       "      <td>1</td>\n",
       "      <td>4118414</td>\n",
       "      <td>0</td>\n",
       "      <td>C</td>\n",
       "      <td>A</td>\n",
       "      <td>0.003</td>\n",
       "      <td>3.835485</td>\n",
       "      <td>3.722942</td>\n",
       "      <td>0.988758</td>\n",
       "      <td>0.984625</td>\n",
       "      <td>0.302992</td>\n",
       "      <td>0.302480</td>\n",
       "      <td>0.302645</td>\n",
       "    </tr>\n",
       "    <tr>\n",
       "      <th>chr1_5151352</th>\n",
       "      <td>1</td>\n",
       "      <td>5151352</td>\n",
       "      <td>0</td>\n",
       "      <td>T</td>\n",
       "      <td>G</td>\n",
       "      <td>0.555</td>\n",
       "      <td>-0.026541</td>\n",
       "      <td>0.029567</td>\n",
       "      <td>0.988369</td>\n",
       "      <td>0.984170</td>\n",
       "      <td>0.369432</td>\n",
       "      <td>0.368852</td>\n",
       "      <td>0.369027</td>\n",
       "    </tr>\n",
       "    <tr>\n",
       "      <th>chr1_5154957</th>\n",
       "      <td>1</td>\n",
       "      <td>5154957</td>\n",
       "      <td>0</td>\n",
       "      <td>C</td>\n",
       "      <td>T</td>\n",
       "      <td>0.543</td>\n",
       "      <td>-0.027417</td>\n",
       "      <td>0.029008</td>\n",
       "      <td>0.988758</td>\n",
       "      <td>0.984569</td>\n",
       "      <td>0.344665</td>\n",
       "      <td>0.344125</td>\n",
       "      <td>0.344283</td>\n",
       "    </tr>\n",
       "    <tr>\n",
       "      <th>chr1_5155818</th>\n",
       "      <td>1</td>\n",
       "      <td>5155818</td>\n",
       "      <td>0</td>\n",
       "      <td>T</td>\n",
       "      <td>C</td>\n",
       "      <td>0.557</td>\n",
       "      <td>-0.027287</td>\n",
       "      <td>0.028926</td>\n",
       "      <td>0.988383</td>\n",
       "      <td>0.984186</td>\n",
       "      <td>0.345591</td>\n",
       "      <td>0.345026</td>\n",
       "      <td>0.345203</td>\n",
       "    </tr>\n",
       "    <tr>\n",
       "      <th>chr1_5155866</th>\n",
       "      <td>1</td>\n",
       "      <td>5155866</td>\n",
       "      <td>0</td>\n",
       "      <td>A</td>\n",
       "      <td>G</td>\n",
       "      <td>0.559</td>\n",
       "      <td>-0.027474</td>\n",
       "      <td>0.029105</td>\n",
       "      <td>0.988383</td>\n",
       "      <td>0.984185</td>\n",
       "      <td>0.345260</td>\n",
       "      <td>0.344695</td>\n",
       "      <td>0.344872</td>\n",
       "    </tr>\n",
       "  </tbody>\n",
       "</table>\n",
       "</div>"
      ],
      "text/plain": [
       "              chr       ps  n_miss allele1 allele0     af      beta        se  \\\n",
       "rs                                                                              \n",
       "chr1_4118414    1  4118414       0       C       A  0.003  3.835485  3.722942   \n",
       "chr1_5151352    1  5151352       0       T       G  0.555 -0.026541  0.029567   \n",
       "chr1_5154957    1  5154957       0       C       T  0.543 -0.027417  0.029008   \n",
       "chr1_5155818    1  5155818       0       T       C  0.557 -0.027287  0.028926   \n",
       "chr1_5155866    1  5155866       0       A       G  0.559 -0.027474  0.029105   \n",
       "\n",
       "               l_remle     l_mle    p_wald     p_lrt   p_score  \n",
       "rs                                                              \n",
       "chr1_4118414  0.988758  0.984625  0.302992  0.302480  0.302645  \n",
       "chr1_5151352  0.988369  0.984170  0.369432  0.368852  0.369027  \n",
       "chr1_5154957  0.988758  0.984569  0.344665  0.344125  0.344283  \n",
       "chr1_5155818  0.988383  0.984186  0.345591  0.345026  0.345203  \n",
       "chr1_5155866  0.988383  0.984185  0.345260  0.344695  0.344872  "
      ]
     },
     "execution_count": 12,
     "metadata": {},
     "output_type": "execute_result"
    }
   ],
   "source": [
    "z = pd.read_table(z_dir+\"/bmd.combined.assoc.txt.gz\", index_col=1)\n",
    "z.head()"
   ]
  },
  {
   "cell_type": "code",
   "execution_count": 14,
   "metadata": {},
   "outputs": [
    {
     "name": "stdout",
     "output_type": "stream",
     "text": [
      "24421\n"
     ]
    }
   ],
   "source": [
    "snps = set(ld[\"snp1\"]).intersection(set(z.index))\n",
    "print(len(snps))"
   ]
  },
  {
   "cell_type": "code",
   "execution_count": 18,
   "metadata": {},
   "outputs": [],
   "source": [
    "ld.index = ld[\"snp1\"]\n",
    "ld = ld.loc[snps, :]\n",
    "z = z.loc[snps, :]"
   ]
  },
  {
   "cell_type": "code",
   "execution_count": 19,
   "metadata": {},
   "outputs": [
    {
     "data": {
      "text/plain": [
       "(24421, 3)"
      ]
     },
     "execution_count": 19,
     "metadata": {},
     "output_type": "execute_result"
    }
   ],
   "source": [
    "ld.shape"
   ]
  },
  {
   "cell_type": "code",
   "execution_count": 20,
   "metadata": {},
   "outputs": [
    {
     "data": {
      "text/plain": [
       "(24421, 13)"
      ]
     },
     "execution_count": 20,
     "metadata": {},
     "output_type": "execute_result"
    }
   ],
   "source": [
    "z.shape"
   ]
  },
  {
   "cell_type": "code",
   "execution_count": 21,
   "metadata": {},
   "outputs": [],
   "source": [
    "z[\"logp\"] = -np.log10(z[\"p_wald\"])"
   ]
  },
  {
   "cell_type": "code",
   "execution_count": 23,
   "metadata": {},
   "outputs": [],
   "source": [
    "z[\"rsquare\"] = ld[\"rsquare\"]"
   ]
  },
  {
   "cell_type": "code",
   "execution_count": 28,
   "metadata": {},
   "outputs": [
    {
     "data": {
      "text/plain": [
       "Text(0.5, 1.0, 'bmd_chr11_96912238')"
      ]
     },
     "execution_count": 28,
     "metadata": {},
     "output_type": "execute_result"
    },
    {
     "data": {
      "image/png": "[encoded data removed]",
      "text/plain": [
       "<Figure size 432x288 with 2 Axes>"
      ]
     },
     "metadata": {
      "needs_background": "light"
     },
     "output_type": "display_data"
    }
   ],
   "source": [
    "plt.scatter(\"ps\", \"logp\", c=\"rsquare\", data=z)\n",
    "plt.colorbar()\n",
    "plt.xlabel(\"bp\")\n",
    "plt.ylabel(\"-log10(p-value)\")\n",
    "plt.title(pheno+\"_\"+chrm+\"_\"+str(bp))"
   ]
  },
  {
   "cell_type": "code",
   "execution_count": 32,
   "metadata": {},
   "outputs": [],
   "source": [
    "def plot_locus(ldFile, zFile, title, outFile):\n",
    "    ld = pd.read_table(ldFile)\n",
    "    z = pd.read_table(zFile, index_col=1)\n",
    "    snps = set(ld[\"snp1\"]).intersection(set(z.index))\n",
    "    ld.index = ld[\"snp1\"]\n",
    "    ld = ld.loc[snps, :]\n",
    "    z = z.loc[snps, :]\n",
    "    z[\"logp\"] = -np.log10(z[\"p_wald\"])\n",
    "    z[\"rsquare\"] = ld[\"rsquare\"]\n",
    "    z[\"mb\"] = z[\"ps\"]/1000000\n",
    "    \n",
    "    plt.scatter(\"mb\", \"logp\", c=\"rsquare\", data=z)\n",
    "    plt.colorbar()\n",
    "    plt.xlabel(\"Position (MB)\")\n",
    "    plt.ylabel(\"-log10(p-value)\")\n",
    "    plt.title(pheno+\"_\"+chrm+\"_\"+str(bp))\n",
    "    plt.savefig(outFile)\n",
    "    plt.clf()"
   ]
  },
  {
   "cell_type": "code",
   "execution_count": 38,
   "metadata": {},
   "outputs": [
    {
     "name": "stdout",
     "output_type": "stream",
     "text": [
      "/u/home/j/jzou1115/project-zarlab/CFW/confidence_intervals/output2/ld_NA/bmd_chr11_96912238_r2.txt\n",
      "/u/home/j/jzou1115/project-zarlab/CFW/confidence_intervals/output2/ld_NA/gastroc_chr11_88973192_r2.txt\n",
      "/u/home/j/jzou1115/project-zarlab/CFW/confidence_intervals/output2/ld_NA/bmd_chr5_23814155_r2.txt\n",
      "/u/home/j/jzou1115/project-zarlab/CFW/confidence_intervals/output2/ld_NA/TA_chr11_88973232_r2.txt\n",
      "/u/home/j/jzou1115/project-zarlab/CFW/confidence_intervals/output2/ld_NA/glucose_chr1_152192170_r2.txt\n",
      "/u/home/j/jzou1115/project-zarlab/CFW/confidence_intervals/output2/ld_NA/soleus_chr13_113404971_r2.txt\n",
      "/u/home/j/jzou1115/project-zarlab/CFW/confidence_intervals/output2/ld_NA/tibia_chr12_83514944_r2.txt\n"
     ]
    },
    {
     "data": {
      "text/plain": [
       "<Figure size 432x288 with 0 Axes>"
      ]
     },
     "metadata": {},
     "output_type": "display_data"
    }
   ],
   "source": [
    "for f in ld_files:\n",
    "    print(f)\n",
    "    baseF = f.split(\"/\")[-1]\n",
    "    tokens = baseF.split(\"_\")\n",
    "    pheno = tokens[0]\n",
    "    chrm = tokens[1]\n",
    "    bp = tokens[2]\n",
    "    \n",
    "    zFile = z_dir+\"/\"+pheno+\".combined.assoc.txt.gz\"\n",
    "    title = pheno+\"_\"+chrm+\"_\"+str(bp)\n",
    "    outFile = ld_dir+\"/\"+title+\".pdf\"\n",
    "    \n",
    "    plot_locus(f, zFile, title, outFile)"
   ]
  },
  {
   "cell_type": "markdown",
   "metadata": {},
   "source": [
    "# QTLs with confidence interval computed"
   ]
  },
  {
   "cell_type": "code",
   "execution_count": 2,
   "metadata": {},
   "outputs": [],
   "source": [
    "z_dir=\"/u/home/j/jzou1115/project-zarlab/CFW/MegaAnalysis_CFW_2019_Summary_Statistics/COMBINED\"\n",
    "ld_dir=\"/u/home/j/jzou1115/project-zarlab/CFW/confidence_intervals/output2/ld\""
   ]
  },
  {
   "cell_type": "code",
   "execution_count": 3,
   "metadata": {},
   "outputs": [
    {
     "data": {
      "text/plain": [
       "64"
      ]
     },
     "execution_count": 3,
     "metadata": {},
     "output_type": "execute_result"
    }
   ],
   "source": [
    "ld_files = glob.glob(ld_dir+\"/*\")\n",
    "len(ld_files)"
   ]
  },
  {
   "cell_type": "code",
   "execution_count": 42,
   "metadata": {},
   "outputs": [
    {
     "name": "stdout",
     "output_type": "stream",
     "text": [
      "/u/home/j/jzou1115/project-zarlab/CFW/confidence_intervals/output2/ld/weight.bmi.tibia_chr2_153707637_r2.txt\n",
      "/u/home/j/jzou1115/project-zarlab/CFW/confidence_intervals/output2/ld/activity30_chr13_8139647_r2.txt\n",
      "/u/home/j/jzou1115/project-zarlab/CFW/confidence_intervals/output2/ld/activity.begin_chr11_96964818_r2.txt\n",
      "/u/home/j/jzou1115/project-zarlab/CFW/confidence_intervals/output2/ld/activity.begin_chr2_153696216_r2.txt\n",
      "/u/home/j/jzou1115/project-zarlab/CFW/confidence_intervals/output2/ld/activity.end_chr11_96653605_r2.txt\n",
      "/u/home/j/jzou1115/project-zarlab/CFW/confidence_intervals/output2/ld/activity.end_chr13_10746304_r2.txt\n",
      "/u/home/j/jzou1115/project-zarlab/CFW/confidence_intervals/output2/ld/activity.middle_chr9_81879809_r2.txt\n",
      "/u/home/j/jzou1115/project-zarlab/CFW/confidence_intervals/output2/ld/activity.total_chr11_96653605_r2.txt\n",
      "/u/home/j/jzou1115/project-zarlab/CFW/confidence_intervals/output2/ld/activity.total_chr13_10144490_r2.txt\n",
      "/u/home/j/jzou1115/project-zarlab/CFW/confidence_intervals/output2/ld/basal.activity_chr11_96816215_r2.txt\n",
      "/u/home/j/jzou1115/project-zarlab/CFW/confidence_intervals/output2/ld/bmd_chr11_94772022_r2.txt\n",
      "/u/home/j/jzou1115/project-zarlab/CFW/confidence_intervals/output2/ld/bmd_chr15_86382123_r2.txt\n",
      "/u/home/j/jzou1115/project-zarlab/CFW/confidence_intervals/output2/ld/bmd_chr5_21721308_r2.txt\n",
      "/u/home/j/jzou1115/project-zarlab/CFW/confidence_intervals/output2/ld/bmd.a_chr11_94882898_r2.txt\n",
      "/u/home/j/jzou1115/project-zarlab/CFW/confidence_intervals/output2/ld/bmd.a_chr11_96913720_r2.txt\n",
      "/u/home/j/jzou1115/project-zarlab/CFW/confidence_intervals/output2/ld/weight.bmi.tibia_chr13_8924722_r2.txt\n",
      "/u/home/j/jzou1115/project-zarlab/CFW/confidence_intervals/output2/ld/EDL_chr13_113025220_r2.txt\n",
      "/u/home/j/jzou1115/project-zarlab/CFW/confidence_intervals/output2/ld/EDL_chr13_114188942_r2.txt\n",
      "/u/home/j/jzou1115/project-zarlab/CFW/confidence_intervals/output2/ld/EDL_chr2_77669072_r2.txt\n",
      "/u/home/j/jzou1115/project-zarlab/CFW/confidence_intervals/output2/ld/EDL_chr2_80039850_r2.txt\n",
      "/u/home/j/jzou1115/project-zarlab/CFW/confidence_intervals/output2/ld/gastroc_chr11_79954876_r2.txt\n",
      "/u/home/j/jzou1115/project-zarlab/CFW/confidence_intervals/output2/ld/gastroc_chr12_83517483_r2.txt\n",
      "/u/home/j/jzou1115/project-zarlab/CFW/confidence_intervals/output2/ld/soleus_chr3_16454507_r2.txt\n",
      "/u/home/j/jzou1115/project-zarlab/CFW/confidence_intervals/output2/ld/soleus_chr6_18123198_r2.txt\n",
      "/u/home/j/jzou1115/project-zarlab/CFW/confidence_intervals/output2/ld/tail.length_chr8_79338858_r2.txt\n",
      "/u/home/j/jzou1115/project-zarlab/CFW/confidence_intervals/output2/ld/tibia_chr11_97100102_r2.txt\n",
      "/u/home/j/jzou1115/project-zarlab/CFW/confidence_intervals/output2/ld/tibia_chr5_39698535_r2.txt\n",
      "/u/home/j/jzou1115/project-zarlab/CFW/confidence_intervals/output2/ld/tibia_chr6_145481081_r2.txt\n",
      "/u/home/j/jzou1115/project-zarlab/CFW/confidence_intervals/output2/ld/tibia_chr6_148328439_r2.txt\n",
      "/u/home/j/jzou1115/project-zarlab/CFW/confidence_intervals/output2/ld/weight_chr13_9217096_r2.txt\n",
      "/u/home/j/jzou1115/project-zarlab/CFW/confidence_intervals/output2/ld/weight_chr17_37094289_r2.txt\n",
      "/u/home/j/jzou1115/project-zarlab/CFW/confidence_intervals/output2/ld/weight.bmi.tibia_chr13_5655594_r2.txt\n"
     ]
    },
    {
     "data": {
      "text/plain": [
       "<Figure size 432x288 with 0 Axes>"
      ]
     },
     "metadata": {},
     "output_type": "display_data"
    }
   ],
   "source": [
    "for f in ld_files:\n",
    "    print(f)\n",
    "    baseF = f.split(\"/\")[-1]\n",
    "    tokens = baseF.split(\"_\")\n",
    "    pheno = tokens[0]\n",
    "    chrm = tokens[1]\n",
    "    bp = tokens[2]\n",
    "    \n",
    "    zFile = z_dir+\"/\"+pheno+\".combined.assoc.txt.gz\"\n",
    "    title = pheno+\"_\"+chrm+\"_\"+str(bp)\n",
    "    outFile = ld_dir+\"/\"+title+\".pdf\"\n",
    "    \n",
    "    plot_locus(f, zFile, title, outFile)"
   ]
  },
  {
   "cell_type": "markdown",
   "metadata": {},
   "source": [
    "# redo plots for confidence intervals"
   ]
  },
  {
   "cell_type": "code",
   "execution_count": 35,
   "metadata": {},
   "outputs": [],
   "source": [
    "z_dir=\"/u/home/j/jzou1115/project-zarlab/CFW/MegaAnalysis_CFW_2019_Summary_Statistics/COMBINED\"\n",
    "ld_dir=\"/u/home/j/jzou1115/project-zarlab/CFW/confidence_intervals/output2/ld_NA\"\n",
    "ld_files = glob.glob(ld_dir+\"/*_r2.txt\")"
   ]
  },
  {
   "cell_type": "code",
   "execution_count": 46,
   "metadata": {},
   "outputs": [],
   "source": [
    "def plot_locus_ci(ldFile, zFile, title, outFile, start, end):\n",
    "    ld = pd.read_table(ldFile)\n",
    "    z = pd.read_table(zFile, index_col=1)\n",
    "    snps = set(ld[\"snp1\"]).intersection(set(z.index))\n",
    "    ld.index = ld[\"snp1\"]\n",
    "    ld = ld.loc[snps, :]\n",
    "    z = z.loc[snps, :]\n",
    "    z[\"logp\"] = -np.log10(z[\"p_wald\"])\n",
    "    z[\"rsquare\"] = ld[\"rsquare\"]\n",
    "    z[\"mb\"] = z[\"ps\"]/1000000\n",
    "    \n",
    "    plt.scatter(\"mb\", \"logp\", c=\"rsquare\", data=z)\n",
    "    plt.colorbar()\n",
    "    plt.xlabel(\"Position (MB)\")\n",
    "    plt.ylabel(\"-log10(p-value)\")\n",
    "    plt.title(pheno+\"_\"+chrm+\"_\"+str(bp))\n",
    "    plt.axvline(x=start/1000000)\n",
    "    plt.axvline(x=end/1000000)\n",
    "    plt.savefig(outFile)\n",
    "    plt.clf()"
   ]
  },
  {
   "cell_type": "code",
   "execution_count": 11,
   "metadata": {},
   "outputs": [],
   "source": [
    "ci = pd.read_table(\"/u/home/j/jzou1115/project-zarlab/CFW/confidence_intervals/output2/confidence_intervals/CI_pruned.txt\")\n",
    "ci = ci[ci[\"quantile\"]==.95]"
   ]
  },
  {
   "cell_type": "code",
   "execution_count": 49,
   "metadata": {},
   "outputs": [
    {
     "name": "stdout",
     "output_type": "stream",
     "text": [
      "/u/home/j/jzou1115/project-zarlab/CFW/confidence_intervals/output2/ld_NA/bmd_chr11_96912238_r2.txt\n",
      "/u/home/j/jzou1115/project-zarlab/CFW/confidence_intervals/output2/ld_NA/gastroc_chr11_88973192_r2.txt\n",
      "/u/home/j/jzou1115/project-zarlab/CFW/confidence_intervals/output2/ld_NA/bmd_chr5_23814155_r2.txt\n",
      "/u/home/j/jzou1115/project-zarlab/CFW/confidence_intervals/output2/ld_NA/TA_chr11_88973232_r2.txt\n",
      "/u/home/j/jzou1115/project-zarlab/CFW/confidence_intervals/output2/ld_NA/glucose_chr1_152192170_r2.txt\n",
      "/u/home/j/jzou1115/project-zarlab/CFW/confidence_intervals/output2/ld_NA/soleus_chr13_113404971_r2.txt\n",
      "/u/home/j/jzou1115/project-zarlab/CFW/confidence_intervals/output2/ld_NA/tibia_chr12_83514944_r2.txt\n",
      "/u/home/j/jzou1115/project-zarlab/CFW/confidence_intervals/output2/ld_NA/activity30_chr13_8139647_r2.txt\n",
      "/u/home/j/jzou1115/project-zarlab/CFW/confidence_intervals/output2/ld_NA/tibia_chr5_39698535_r2.txt\n",
      "/u/home/j/jzou1115/project-zarlab/CFW/confidence_intervals/output2/ld_NA/soleus_chr3_16454507_r2.txt\n",
      "/u/home/j/jzou1115/project-zarlab/CFW/confidence_intervals/output2/ld_NA/gastroc_chr11_79954876_r2.txt\n",
      "/u/home/j/jzou1115/project-zarlab/CFW/confidence_intervals/output2/ld_NA/bmd_chr15_86382123_r2.txt\n",
      "/u/home/j/jzou1115/project-zarlab/CFW/confidence_intervals/output2/ld_NA/soleus_chr6_18123198_r2.txt\n",
      "/u/home/j/jzou1115/project-zarlab/CFW/confidence_intervals/output2/ld_NA/gastroc_chr12_83517483_r2.txt\n",
      "/u/home/j/jzou1115/project-zarlab/CFW/confidence_intervals/output2/ld_NA/weight_chr17_37094289_r2.txt\n",
      "/u/home/j/jzou1115/project-zarlab/CFW/confidence_intervals/output2/ld_NA/tail.length_chr8_79338858_r2.txt\n",
      "/u/home/j/jzou1115/project-zarlab/CFW/confidence_intervals/output2/ld_NA/activity.middle_chr9_81879809_r2.txt\n",
      "/u/home/j/jzou1115/project-zarlab/CFW/confidence_intervals/output2/ld_NA/tibia_chr6_145481081_r2.txt\n",
      "/u/home/j/jzou1115/project-zarlab/CFW/confidence_intervals/output2/ld_NA/EDL_chr2_77669072_r2.txt\n",
      "/u/home/j/jzou1115/project-zarlab/CFW/confidence_intervals/output2/ld_NA/tibia_chr6_148328439_r2.txt\n",
      "/u/home/j/jzou1115/project-zarlab/CFW/confidence_intervals/output2/ld_NA/tibia_chr11_97100102_r2.txt\n",
      "/u/home/j/jzou1115/project-zarlab/CFW/confidence_intervals/output2/ld_NA/bmd.a_chr11_96913720_r2.txt\n",
      "/u/home/j/jzou1115/project-zarlab/CFW/confidence_intervals/output2/ld_NA/bmd_chr5_21721308_r2.txt\n",
      "/u/home/j/jzou1115/project-zarlab/CFW/confidence_intervals/output2/ld_NA/bmd.a_chr11_94882898_r2.txt\n",
      "/u/home/j/jzou1115/project-zarlab/CFW/confidence_intervals/output2/ld_NA/EDL_chr2_80039850_r2.txt\n",
      "/u/home/j/jzou1115/project-zarlab/CFW/confidence_intervals/output2/ld_NA/bmd_chr11_94772022_r2.txt\n",
      "/u/home/j/jzou1115/project-zarlab/CFW/confidence_intervals/output2/ld_NA/weight.bmi.tibia_chr2_153707637_r2.txt\n",
      "/u/home/j/jzou1115/project-zarlab/CFW/confidence_intervals/output2/ld_NA/activity.end_chr11_96653605_r2.txt\n",
      "/u/home/j/jzou1115/project-zarlab/CFW/confidence_intervals/output2/ld_NA/activity.total_chr13_10144490_r2.txt\n",
      "/u/home/j/jzou1115/project-zarlab/CFW/confidence_intervals/output2/ld_NA/weight.bmi.tibia_chr13_8924722_r2.txt\n",
      "/u/home/j/jzou1115/project-zarlab/CFW/confidence_intervals/output2/ld_NA/weight_chr13_9217096_r2.txt\n",
      "/u/home/j/jzou1115/project-zarlab/CFW/confidence_intervals/output2/ld_NA/weight.bmi.tibia_chr13_5655594_r2.txt\n",
      "/u/home/j/jzou1115/project-zarlab/CFW/confidence_intervals/output2/ld_NA/basal.activity_chr11_96816215_r2.txt\n",
      "/u/home/j/jzou1115/project-zarlab/CFW/confidence_intervals/output2/ld_NA/activity.total_chr11_96653605_r2.txt\n",
      "/u/home/j/jzou1115/project-zarlab/CFW/confidence_intervals/output2/ld_NA/activity.begin_chr2_153696216_r2.txt\n",
      "/u/home/j/jzou1115/project-zarlab/CFW/confidence_intervals/output2/ld_NA/activity.begin_chr11_96964818_r2.txt\n",
      "/u/home/j/jzou1115/project-zarlab/CFW/confidence_intervals/output2/ld_NA/activity.end_chr13_10746304_r2.txt\n",
      "/u/home/j/jzou1115/project-zarlab/CFW/confidence_intervals/output2/ld_NA/EDL_chr13_113025220_r2.txt\n"
     ]
    },
    {
     "data": {
      "text/plain": [
       "<Figure size 432x288 with 0 Axes>"
      ]
     },
     "metadata": {},
     "output_type": "display_data"
    }
   ],
   "source": [
    "for f in ld_files:\n",
    "    print(f)\n",
    "    baseF = f.split(\"/\")[-1]\n",
    "    tokens = baseF.split(\"_\")\n",
    "    pheno = tokens[0]\n",
    "    chrm = tokens[1]\n",
    "    bp = tokens[2]\n",
    "    \n",
    "    zFile = z_dir+\"/\"+pheno+\".combined.assoc.txt.gz\"\n",
    "    title = pheno+\"_\"+chrm+\"_\"+str(bp)\n",
    "    outFile = ld_dir+\"/\"+title+\".pdf\"\n",
    "    \n",
    "    ci_qtl = ci[(ci[\"phenotype\"]==pheno) & (ci[\"bp\"]==int(bp)) ]\n",
    "    \n",
    "    i = ci_qtl.index[0]\n",
    "    start_ci = ci.loc[i, \"from.bp\"]\n",
    "    end_ci = ci.loc[i, \"to.bp\"]\n",
    "    if math.isnan(ci.loc[i, \"from.bp\"]):\n",
    "        plot_locus(f, zFile, title, outFile)\n",
    "    else:\n",
    "        plot_locus_ci(f, zFile, title, outFile, start_ci, end_ci)"
   ]
  },
  {
   "cell_type": "code",
   "execution_count": 19,
   "metadata": {},
   "outputs": [
    {
     "name": "stdout",
     "output_type": "stream",
     "text": [
      "EDL 113025220\n",
      "\n",
      "Int64Index([84], dtype='int64')\n"
     ]
    },
    {
     "data": {
      "image/png": "[encoded data removed]",
      "text/plain": [
       "<Figure size 432x288 with 2 Axes>"
      ]
     },
     "metadata": {
      "needs_background": "light"
     },
     "output_type": "display_data"
    }
   ],
   "source": [
    "    f = \"/u/home/j/jzou1115/project-zarlab/CFW/confidence_intervals/output2/ld_NA/EDL_chr13_113025220_r2.txt\"\n",
    "    baseF = f.split(\"/\")[-1]\n",
    "    tokens = baseF.split(\"_\")\n",
    "    pheno = tokens[0]\n",
    "    chrm = tokens[1]\n",
    "    bp = tokens[2]\n",
    "    \n",
    "    zFile = z_dir+\"/\"+pheno+\".combined.assoc.txt.gz\"\n",
    "    title = pheno+\"_\"+chrm+\"_\"+str(bp)\n",
    "    outFile = ld_dir+\"/\"+title+\".pdf\"\n",
    "    \n",
    "    print(pheno, bp)\n",
    "    ci_qtl = ci[(ci[\"phenotype\"]==pheno) & (ci[\"bp\"]==int(bp)) ]\n",
    "    print()\n",
    "    print(ci_qtl.index)\n",
    "    i = ci_qtl.index[0]\n",
    "    start_ci = ci.loc[i, \"from.bp\"]\n",
    "    end_ci = ci.loc[i, \"to.bp\"]\n",
    "    if math.isnan(ci.loc[i, \"start_ci\"]):\n",
    "        plot_locus_ci(f, zFile, title, outFile)\n",
    "    else:\n",
    "        plot_locus_ci(f, zFile, title, outFile, start_ci, end_ci)"
   ]
  },
  {
   "cell_type": "code",
   "execution_count": 48,
   "metadata": {},
   "outputs": [
    {
     "name": "stdout",
     "output_type": "stream",
     "text": [
      "EDL 113025220\n",
      "\n",
      "Int64Index([84], dtype='int64')\n"
     ]
    },
    {
     "data": {
      "text/plain": [
       "<Figure size 432x288 with 0 Axes>"
      ]
     },
     "metadata": {},
     "output_type": "display_data"
    }
   ],
   "source": [
    "    f = \"/u/home/j/jzou1115/project-zarlab/CFW/confidence_intervals/output2/ld_NA/EDL_chr13_113025220_r2.txt\"\n",
    "    baseF = f.split(\"/\")[-1]\n",
    "    tokens = baseF.split(\"_\")\n",
    "    pheno = tokens[0]\n",
    "    chrm = tokens[1]\n",
    "    bp = tokens[2]\n",
    "    \n",
    "    zFile = z_dir+\"/\"+pheno+\".combined.assoc.txt.gz\"\n",
    "    title = pheno+\"_\"+chrm+\"_\"+str(bp)\n",
    "    outFile = ld_dir+\"/\"+title+\".pdf\"\n",
    "    \n",
    "    print(pheno, bp)\n",
    "    ci_qtl = ci[(ci[\"phenotype\"]==pheno) & (ci[\"bp\"]==int(bp)) ]\n",
    "    print()\n",
    "    print(ci_qtl.index)\n",
    "    i = ci_qtl.index[0]\n",
    "    \n",
    "    \n",
    "    start_ci = ci.loc[i, \"from.bp\"]\n",
    "    end_ci = ci.loc[i, \"to.bp\"]\n",
    "    if math.isnan(ci.loc[i, \"from.bp\"]):\n",
    "        plot_locus_ci(f, zFile, title, outFile)\n",
    "    else:\n",
    "        plot_locus_ci(f, zFile, title, outFile, start_ci, end_ci)"
   ]
  },
  {
   "cell_type": "code",
   "execution_count": 25,
   "metadata": {},
   "outputs": [
    {
     "data": {
      "text/plain": [
       "True"
      ]
     },
     "execution_count": 25,
     "metadata": {},
     "output_type": "execute_result"
    }
   ],
   "source": [
    "math.isnan(ci.loc[4, \"fine.bp\"])"
   ]
  },
  {
   "cell_type": "markdown",
   "metadata": {},
   "source": [
    "# Welcome Trust Credible sets"
   ]
  },
  {
   "cell_type": "code",
   "execution_count": 16,
   "metadata": {},
   "outputs": [],
   "source": [
    "def plot_locus_cred_set(ldFile, zFile, title, outFile,  start, end, credFile):\n",
    "    ld = pd.read_table(ldFile)\n",
    "    z = pd.read_table(zFile, index_col=1)\n",
    "    snps = set(ld[\"snp1\"]).intersection(set(z.index))\n",
    "    ld.index = ld[\"snp1\"]\n",
    "    ld = ld.loc[snps, :]\n",
    "    z = z.loc[snps, :]\n",
    "    z[\"logp\"] = -np.log10(z[\"p_wald\"])\n",
    "    z[\"rsquare\"] = ld[\"rsquare\"]\n",
    "    z[\"mb\"] = z[\"ps\"]/1000000\n",
    "    \n",
    "    cred = pd.read_table(credFile)\n",
    "    cred.index = cred[\"SNP\"]\n",
    "    cred = cred.loc[snps,:]\n",
    "    cred[\"inCredible\"].fillna(value=0, inplace=True)\n",
    "    z[\"cred\"] = cred[\"inCredible\"]\n",
    "    \n",
    "    minX = min(z[\"mb\"]-.01)\n",
    "    maxX = max(z[\"mb\"]+.01)\n",
    "    maxY = max(z[\"logp\"]+.01)\n",
    "    \n",
    "    fig, axes = plt.subplots(1, 2)\n",
    "    \n",
    "    ax=axes[0]\n",
    "    sub = z[z[\"cred\"]==0]\n",
    "    ax.scatter(\"mb\", \"logp\", c=\"rsquare\", data=sub, vmin=0, vmax=1)\n",
    "    ax.set_xlabel(\"Position (MB)\")\n",
    "    ax.set_ylabel(\"-log10(p-value)\")\n",
    "    ax.set_title(\"Not in credible set\")\n",
    "    if not math.isnan(start):\n",
    "        ax.axvline(x=start/1000000)\n",
    "        ax.axvline(x=end/1000000)\n",
    "    ax.set_xlim(left=minX, right=maxX)\n",
    "    ax.set_ylim(bottom=0, top=maxY)\n",
    "    \n",
    "    ax=axes[1]\n",
    "    sub = z[z[\"cred\"]==1]\n",
    "    s = ax.scatter(\"mb\", \"logp\", c=\"rsquare\", data=sub, label=\"Credible set\", vmin=0, vmax=1)\n",
    "    ax.set_xlabel(\"Position (MB)\")\n",
    "    ax.set_ylabel(\"-log10(p-value)\")\n",
    "    ax.set_title(\"Credible set\")\n",
    "    if not math.isnan(start):\n",
    "        ax.axvline(x=start/1000000)\n",
    "        ax.axvline(x=end/1000000)\n",
    "    ax.set_xlim(left=minX, right=maxX)\n",
    "    ax.set_ylim(bottom=0, top=maxY)\n",
    "    \n",
    "    fig.colorbar(s, ax = ax)\n",
    "    \n",
    "    #plt.xlabel(\"Position (MB)\")\n",
    "    #plt.ylabel(\"-log10(p-value)\")\n",
    "    #plt.title(pheno+\"_\"+chrm+\"_\"+str(bp))\n",
    "    fig.tight_layout()\n",
    "    plt.savefig(outFile)\n",
    "    plt.clf()"
   ]
  },
  {
   "cell_type": "code",
   "execution_count": 3,
   "metadata": {},
   "outputs": [],
   "source": [
    "z_dir=\"/u/home/j/jzou1115/project-zarlab/CFW/MegaAnalysis_CFW_2019_Summary_Statistics/COMBINED\"\n",
    "ld_dir=\"/u/home/j/jzou1115/project-zarlab/CFW/confidence_intervals/output2/ld_NA\"\n",
    "ld_files = glob.glob(ld_dir+\"/*_r2.txt\")\n",
    "cred_dir =\"/u/home/j/jzou1115/project-zarlab/CFW/confidence_intervals/wellcome_trust\"\n",
    "ci = pd.read_table(\"/u/home/j/jzou1115/project-zarlab/CFW/confidence_intervals/output2/confidence_intervals/CI_pruned.txt\")\n",
    "ci = ci[ci[\"quantile\"]==.95]"
   ]
  },
  {
   "cell_type": "code",
   "execution_count": 18,
   "metadata": {},
   "outputs": [
    {
     "name": "stdout",
     "output_type": "stream",
     "text": [
      "gastroc_chr11_88973192\n",
      "bmd_chr5_23814155\n",
      "TA_chr11_88973232\n",
      "glucose_chr1_152192170\n",
      "soleus_chr13_113404971\n",
      "tibia_chr12_83514944\n",
      "activity30_chr13_8139647\n",
      "tibia_chr5_39698535\n",
      "soleus_chr3_16454507\n",
      "gastroc_chr11_79954876\n",
      "bmd_chr15_86382123\n",
      "soleus_chr6_18123198\n",
      "gastroc_chr12_83517483\n",
      "weight_chr17_37094289\n",
      "tail.length_chr8_79338858\n",
      "activity.middle_chr9_81879809\n",
      "tibia_chr6_145481081\n",
      "EDL_chr2_77669072\n",
      "tibia_chr6_148328439\n",
      "tibia_chr11_97100102\n",
      "bmd.a_chr11_96913720\n"
     ]
    },
    {
     "name": "stderr",
     "output_type": "stream",
     "text": [
      "/u/home/j/jzou1115/project-ernst/software/anaconda3/lib/python3.7/site-packages/ipykernel_launcher.py:22: RuntimeWarning: More than 20 figures have been opened. Figures created through the pyplot interface (`matplotlib.pyplot.figure`) are retained until explicitly closed and may consume too much memory. (To control this warning, see the rcParam `figure.max_open_warning`).\n"
     ]
    },
    {
     "name": "stdout",
     "output_type": "stream",
     "text": [
      "bmd_chr5_21721308\n"
     ]
    },
    {
     "name": "stderr",
     "output_type": "stream",
     "text": [
      "/u/home/j/jzou1115/project-ernst/software/anaconda3/lib/python3.7/site-packages/ipykernel_launcher.py:22: RuntimeWarning: More than 20 figures have been opened. Figures created through the pyplot interface (`matplotlib.pyplot.figure`) are retained until explicitly closed and may consume too much memory. (To control this warning, see the rcParam `figure.max_open_warning`).\n"
     ]
    },
    {
     "name": "stdout",
     "output_type": "stream",
     "text": [
      "bmd.a_chr11_94882898\n"
     ]
    },
    {
     "name": "stderr",
     "output_type": "stream",
     "text": [
      "/u/home/j/jzou1115/project-ernst/software/anaconda3/lib/python3.7/site-packages/ipykernel_launcher.py:22: RuntimeWarning: More than 20 figures have been opened. Figures created through the pyplot interface (`matplotlib.pyplot.figure`) are retained until explicitly closed and may consume too much memory. (To control this warning, see the rcParam `figure.max_open_warning`).\n"
     ]
    },
    {
     "name": "stdout",
     "output_type": "stream",
     "text": [
      "EDL_chr2_80039850\n"
     ]
    },
    {
     "name": "stderr",
     "output_type": "stream",
     "text": [
      "/u/home/j/jzou1115/project-ernst/software/anaconda3/lib/python3.7/site-packages/ipykernel_launcher.py:22: RuntimeWarning: More than 20 figures have been opened. Figures created through the pyplot interface (`matplotlib.pyplot.figure`) are retained until explicitly closed and may consume too much memory. (To control this warning, see the rcParam `figure.max_open_warning`).\n"
     ]
    },
    {
     "name": "stdout",
     "output_type": "stream",
     "text": [
      "bmd_chr11_94772022\n"
     ]
    },
    {
     "name": "stderr",
     "output_type": "stream",
     "text": [
      "/u/home/j/jzou1115/project-ernst/software/anaconda3/lib/python3.7/site-packages/ipykernel_launcher.py:22: RuntimeWarning: More than 20 figures have been opened. Figures created through the pyplot interface (`matplotlib.pyplot.figure`) are retained until explicitly closed and may consume too much memory. (To control this warning, see the rcParam `figure.max_open_warning`).\n"
     ]
    },
    {
     "name": "stdout",
     "output_type": "stream",
     "text": [
      "weight.bmi.tibia_chr2_153707637\n"
     ]
    },
    {
     "name": "stderr",
     "output_type": "stream",
     "text": [
      "/u/home/j/jzou1115/project-ernst/software/anaconda3/lib/python3.7/site-packages/ipykernel_launcher.py:22: RuntimeWarning: More than 20 figures have been opened. Figures created through the pyplot interface (`matplotlib.pyplot.figure`) are retained until explicitly closed and may consume too much memory. (To control this warning, see the rcParam `figure.max_open_warning`).\n"
     ]
    },
    {
     "name": "stdout",
     "output_type": "stream",
     "text": [
      "activity.end_chr11_96653605\n"
     ]
    },
    {
     "name": "stderr",
     "output_type": "stream",
     "text": [
      "/u/home/j/jzou1115/project-ernst/software/anaconda3/lib/python3.7/site-packages/ipykernel_launcher.py:22: RuntimeWarning: More than 20 figures have been opened. Figures created through the pyplot interface (`matplotlib.pyplot.figure`) are retained until explicitly closed and may consume too much memory. (To control this warning, see the rcParam `figure.max_open_warning`).\n"
     ]
    },
    {
     "name": "stdout",
     "output_type": "stream",
     "text": [
      "activity.total_chr13_10144490\n"
     ]
    },
    {
     "name": "stderr",
     "output_type": "stream",
     "text": [
      "/u/home/j/jzou1115/project-ernst/software/anaconda3/lib/python3.7/site-packages/ipykernel_launcher.py:22: RuntimeWarning: More than 20 figures have been opened. Figures created through the pyplot interface (`matplotlib.pyplot.figure`) are retained until explicitly closed and may consume too much memory. (To control this warning, see the rcParam `figure.max_open_warning`).\n"
     ]
    },
    {
     "name": "stdout",
     "output_type": "stream",
     "text": [
      "weight.bmi.tibia_chr13_8924722\n"
     ]
    },
    {
     "name": "stderr",
     "output_type": "stream",
     "text": [
      "/u/home/j/jzou1115/project-ernst/software/anaconda3/lib/python3.7/site-packages/ipykernel_launcher.py:22: RuntimeWarning: More than 20 figures have been opened. Figures created through the pyplot interface (`matplotlib.pyplot.figure`) are retained until explicitly closed and may consume too much memory. (To control this warning, see the rcParam `figure.max_open_warning`).\n"
     ]
    },
    {
     "name": "stdout",
     "output_type": "stream",
     "text": [
      "weight_chr13_9217096\n"
     ]
    },
    {
     "name": "stderr",
     "output_type": "stream",
     "text": [
      "/u/home/j/jzou1115/project-ernst/software/anaconda3/lib/python3.7/site-packages/ipykernel_launcher.py:22: RuntimeWarning: More than 20 figures have been opened. Figures created through the pyplot interface (`matplotlib.pyplot.figure`) are retained until explicitly closed and may consume too much memory. (To control this warning, see the rcParam `figure.max_open_warning`).\n"
     ]
    },
    {
     "name": "stdout",
     "output_type": "stream",
     "text": [
      "weight.bmi.tibia_chr13_5655594\n"
     ]
    },
    {
     "name": "stderr",
     "output_type": "stream",
     "text": [
      "/u/home/j/jzou1115/project-ernst/software/anaconda3/lib/python3.7/site-packages/ipykernel_launcher.py:22: RuntimeWarning: More than 20 figures have been opened. Figures created through the pyplot interface (`matplotlib.pyplot.figure`) are retained until explicitly closed and may consume too much memory. (To control this warning, see the rcParam `figure.max_open_warning`).\n"
     ]
    },
    {
     "name": "stdout",
     "output_type": "stream",
     "text": [
      "basal.activity_chr11_96816215\n"
     ]
    },
    {
     "name": "stderr",
     "output_type": "stream",
     "text": [
      "/u/home/j/jzou1115/project-ernst/software/anaconda3/lib/python3.7/site-packages/ipykernel_launcher.py:22: RuntimeWarning: More than 20 figures have been opened. Figures created through the pyplot interface (`matplotlib.pyplot.figure`) are retained until explicitly closed and may consume too much memory. (To control this warning, see the rcParam `figure.max_open_warning`).\n"
     ]
    },
    {
     "name": "stdout",
     "output_type": "stream",
     "text": [
      "activity.total_chr11_96653605\n"
     ]
    },
    {
     "name": "stderr",
     "output_type": "stream",
     "text": [
      "/u/home/j/jzou1115/project-ernst/software/anaconda3/lib/python3.7/site-packages/ipykernel_launcher.py:22: RuntimeWarning: More than 20 figures have been opened. Figures created through the pyplot interface (`matplotlib.pyplot.figure`) are retained until explicitly closed and may consume too much memory. (To control this warning, see the rcParam `figure.max_open_warning`).\n"
     ]
    },
    {
     "name": "stdout",
     "output_type": "stream",
     "text": [
      "activity.begin_chr2_153696216\n"
     ]
    },
    {
     "name": "stderr",
     "output_type": "stream",
     "text": [
      "/u/home/j/jzou1115/project-ernst/software/anaconda3/lib/python3.7/site-packages/ipykernel_launcher.py:22: RuntimeWarning: More than 20 figures have been opened. Figures created through the pyplot interface (`matplotlib.pyplot.figure`) are retained until explicitly closed and may consume too much memory. (To control this warning, see the rcParam `figure.max_open_warning`).\n"
     ]
    },
    {
     "name": "stdout",
     "output_type": "stream",
     "text": [
      "activity.begin_chr11_96964818\n"
     ]
    },
    {
     "name": "stderr",
     "output_type": "stream",
     "text": [
      "/u/home/j/jzou1115/project-ernst/software/anaconda3/lib/python3.7/site-packages/ipykernel_launcher.py:22: RuntimeWarning: More than 20 figures have been opened. Figures created through the pyplot interface (`matplotlib.pyplot.figure`) are retained until explicitly closed and may consume too much memory. (To control this warning, see the rcParam `figure.max_open_warning`).\n"
     ]
    },
    {
     "name": "stdout",
     "output_type": "stream",
     "text": [
      "activity.end_chr13_10746304\n"
     ]
    },
    {
     "name": "stderr",
     "output_type": "stream",
     "text": [
      "/u/home/j/jzou1115/project-ernst/software/anaconda3/lib/python3.7/site-packages/ipykernel_launcher.py:22: RuntimeWarning: More than 20 figures have been opened. Figures created through the pyplot interface (`matplotlib.pyplot.figure`) are retained until explicitly closed and may consume too much memory. (To control this warning, see the rcParam `figure.max_open_warning`).\n"
     ]
    },
    {
     "name": "stdout",
     "output_type": "stream",
     "text": [
      "EDL_chr13_113025220\n"
     ]
    },
    {
     "name": "stderr",
     "output_type": "stream",
     "text": [
      "/u/home/j/jzou1115/project-ernst/software/anaconda3/lib/python3.7/site-packages/ipykernel_launcher.py:22: RuntimeWarning: More than 20 figures have been opened. Figures created through the pyplot interface (`matplotlib.pyplot.figure`) are retained until explicitly closed and may consume too much memory. (To control this warning, see the rcParam `figure.max_open_warning`).\n"
     ]
    },
    {
     "data": {
      "text/plain": [
       "<Figure size 432x288 with 0 Axes>"
      ]
     },
     "metadata": {},
     "output_type": "display_data"
    },
    {
     "data": {
      "text/plain": [
       "<Figure size 432x288 with 0 Axes>"
      ]
     },
     "metadata": {},
     "output_type": "display_data"
    },
    {
     "data": {
      "text/plain": [
       "<Figure size 432x288 with 0 Axes>"
      ]
     },
     "metadata": {},
     "output_type": "display_data"
    },
    {
     "data": {
      "text/plain": [
       "<Figure size 432x288 with 0 Axes>"
      ]
     },
     "metadata": {},
     "output_type": "display_data"
    },
    {
     "data": {
      "text/plain": [
       "<Figure size 432x288 with 0 Axes>"
      ]
     },
     "metadata": {},
     "output_type": "display_data"
    },
    {
     "data": {
      "text/plain": [
       "<Figure size 432x288 with 0 Axes>"
      ]
     },
     "metadata": {},
     "output_type": "display_data"
    },
    {
     "data": {
      "text/plain": [
       "<Figure size 432x288 with 0 Axes>"
      ]
     },
     "metadata": {},
     "output_type": "display_data"
    },
    {
     "data": {
      "text/plain": [
       "<Figure size 432x288 with 0 Axes>"
      ]
     },
     "metadata": {},
     "output_type": "display_data"
    },
    {
     "data": {
      "text/plain": [
       "<Figure size 432x288 with 0 Axes>"
      ]
     },
     "metadata": {},
     "output_type": "display_data"
    },
    {
     "data": {
      "text/plain": [
       "<Figure size 432x288 with 0 Axes>"
      ]
     },
     "metadata": {},
     "output_type": "display_data"
    },
    {
     "data": {
      "text/plain": [
       "<Figure size 432x288 with 0 Axes>"
      ]
     },
     "metadata": {},
     "output_type": "display_data"
    },
    {
     "data": {
      "text/plain": [
       "<Figure size 432x288 with 0 Axes>"
      ]
     },
     "metadata": {},
     "output_type": "display_data"
    },
    {
     "data": {
      "text/plain": [
       "<Figure size 432x288 with 0 Axes>"
      ]
     },
     "metadata": {},
     "output_type": "display_data"
    },
    {
     "data": {
      "text/plain": [
       "<Figure size 432x288 with 0 Axes>"
      ]
     },
     "metadata": {},
     "output_type": "display_data"
    },
    {
     "data": {
      "text/plain": [
       "<Figure size 432x288 with 0 Axes>"
      ]
     },
     "metadata": {},
     "output_type": "display_data"
    },
    {
     "data": {
      "text/plain": [
       "<Figure size 432x288 with 0 Axes>"
      ]
     },
     "metadata": {},
     "output_type": "display_data"
    },
    {
     "data": {
      "text/plain": [
       "<Figure size 432x288 with 0 Axes>"
      ]
     },
     "metadata": {},
     "output_type": "display_data"
    },
    {
     "data": {
      "text/plain": [
       "<Figure size 432x288 with 0 Axes>"
      ]
     },
     "metadata": {},
     "output_type": "display_data"
    },
    {
     "data": {
      "text/plain": [
       "<Figure size 432x288 with 0 Axes>"
      ]
     },
     "metadata": {},
     "output_type": "display_data"
    },
    {
     "data": {
      "text/plain": [
       "<Figure size 432x288 with 0 Axes>"
      ]
     },
     "metadata": {},
     "output_type": "display_data"
    },
    {
     "data": {
      "text/plain": [
       "<Figure size 432x288 with 0 Axes>"
      ]
     },
     "metadata": {},
     "output_type": "display_data"
    },
    {
     "data": {
      "text/plain": [
       "<Figure size 432x288 with 0 Axes>"
      ]
     },
     "metadata": {},
     "output_type": "display_data"
    },
    {
     "data": {
      "text/plain": [
       "<Figure size 432x288 with 0 Axes>"
      ]
     },
     "metadata": {},
     "output_type": "display_data"
    },
    {
     "data": {
      "text/plain": [
       "<Figure size 432x288 with 0 Axes>"
      ]
     },
     "metadata": {},
     "output_type": "display_data"
    },
    {
     "data": {
      "text/plain": [
       "<Figure size 432x288 with 0 Axes>"
      ]
     },
     "metadata": {},
     "output_type": "display_data"
    },
    {
     "data": {
      "text/plain": [
       "<Figure size 432x288 with 0 Axes>"
      ]
     },
     "metadata": {},
     "output_type": "display_data"
    },
    {
     "data": {
      "text/plain": [
       "<Figure size 432x288 with 0 Axes>"
      ]
     },
     "metadata": {},
     "output_type": "display_data"
    },
    {
     "data": {
      "text/plain": [
       "<Figure size 432x288 with 0 Axes>"
      ]
     },
     "metadata": {},
     "output_type": "display_data"
    },
    {
     "data": {
      "text/plain": [
       "<Figure size 432x288 with 0 Axes>"
      ]
     },
     "metadata": {},
     "output_type": "display_data"
    },
    {
     "data": {
      "text/plain": [
       "<Figure size 432x288 with 0 Axes>"
      ]
     },
     "metadata": {},
     "output_type": "display_data"
    },
    {
     "data": {
      "text/plain": [
       "<Figure size 432x288 with 0 Axes>"
      ]
     },
     "metadata": {},
     "output_type": "display_data"
    },
    {
     "data": {
      "text/plain": [
       "<Figure size 432x288 with 0 Axes>"
      ]
     },
     "metadata": {},
     "output_type": "display_data"
    },
    {
     "data": {
      "text/plain": [
       "<Figure size 432x288 with 0 Axes>"
      ]
     },
     "metadata": {},
     "output_type": "display_data"
    },
    {
     "data": {
      "text/plain": [
       "<Figure size 432x288 with 0 Axes>"
      ]
     },
     "metadata": {},
     "output_type": "display_data"
    },
    {
     "data": {
      "text/plain": [
       "<Figure size 432x288 with 0 Axes>"
      ]
     },
     "metadata": {},
     "output_type": "display_data"
    },
    {
     "data": {
      "text/plain": [
       "<Figure size 432x288 with 0 Axes>"
      ]
     },
     "metadata": {},
     "output_type": "display_data"
    },
    {
     "data": {
      "text/plain": [
       "<Figure size 432x288 with 0 Axes>"
      ]
     },
     "metadata": {},
     "output_type": "display_data"
    }
   ],
   "source": [
    "for f in ld_files:\n",
    "\n",
    "    baseF = f.split(\"/\")[-1]\n",
    "    tokens = baseF.split(\"_\")\n",
    "    pheno = tokens[0]\n",
    "    chrm = tokens[1]\n",
    "    bp = tokens[2]\n",
    "    \n",
    "    zFile = z_dir+\"/\"+pheno+\".combined.assoc.txt.gz\"\n",
    "    title = pheno+\"_\"+chrm+\"_\"+str(bp)\n",
    "    outFile = cred_dir+\"/\"+title+\".pdf\"\n",
    "    credFile = cred_dir+\"/\"+pheno+\"_\"+chrm+\"_\"+bp+\"_output.txt\"\n",
    "\n",
    "    if os.path.isfile(outFile):\n",
    "        continue\n",
    "\n",
    "    print(title)\n",
    "    \n",
    "    ci_qtl = ci[(ci[\"phenotype\"]==pheno) & (ci[\"bp\"]==int(bp)) ]\n",
    "\n",
    "    i = ci_qtl.index[0]\n",
    "    start_ci = ci.loc[i, \"from.bp\"]\n",
    "    end_ci = ci.loc[i, \"to.bp\"]\n",
    "    plot_locus_cred_set(f, zFile, title, outFile, start_ci, end_ci, credFile)"
   ]
  },
  {
   "cell_type": "code",
   "execution_count": null,
   "metadata": {},
   "outputs": [],
   "source": []
  }
 ],
 "metadata": {
  "kernelspec": {
   "display_name": "Python 3",
   "language": "python",
   "name": "python3"
  },
  "language_info": {
   "codemirror_mode": {
    "name": "ipython",
    "version": 3
   },
   "file_extension": ".py",
   "mimetype": "text/x-python",
   "name": "python",
   "nbconvert_exporter": "python",
   "pygments_lexer": "ipython3",
   "version": "3.7.6"
  }
 },
 "nbformat": 4,
 "nbformat_minor": 4
}
